{
  "nbformat": 4,
  "nbformat_minor": 0,
  "metadata": {
    "colab": {
      "provenance": []
    },
    "kernelspec": {
      "name": "python3",
      "display_name": "Python 3"
    },
    "language_info": {
      "name": "python"
    }
  },
  "cells": [
    {
      "cell_type": "markdown",
      "source": [
        "\n",
        "#Predicting the house selling-price \n"
      ],
      "metadata": {
        "id": "QxjGX5pv4nMo"
      }
    },
    {
      "cell_type": "markdown",
      "source": [
        "### Import the necessary libraries\n"
      ],
      "metadata": {
        "id": "KhjAAM4S5KRD"
      }
    },
    {
      "cell_type": "code",
      "source": [
        "import numpy as np\n",
        "import pandas as pd\n",
        "from sklearn.neural_network import MLPRegressor\n",
        "from sklearn.model_selection import train_test_split\n",
        "from sklearn.preprocessing import StandardScaler\n",
        "from sklearn.metrics import mean_squared_error"
      ],
      "metadata": {
        "id": "H33WD9UK5N09"
      },
      "execution_count": 1,
      "outputs": []
    },
    {
      "cell_type": "markdown",
      "source": [
        "### Load the Bousten dataset and store it in a pandas dataframe\n"
      ],
      "metadata": {
        "id": "_J6ZjNRW5VRd"
      }
    },
    {
      "cell_type": "code",
      "source": [
        "url = \"https://archive.ics.uci.edu/ml/machine-learning-databases/housing/housing.data\"\n",
        "column_names = ['CRIM', 'ZN', 'INDUS', 'CHAS', 'NOX', 'RM', 'AGE', 'DIS', 'RAD', 'TAX', 'PTRATIO', 'B', 'LSTAT', 'MEDV']\n",
        "dataset = pd.read_csv(url, delim_whitespace=True, names=column_names)"
      ],
      "metadata": {
        "id": "0S_0PsGG5Xww"
      },
      "execution_count": 2,
      "outputs": []
    },
    {
      "cell_type": "markdown",
      "source": [
        "\n",
        "### Getting the feature values (X) and target values (y)"
      ],
      "metadata": {
        "id": "vNnGDEN15axD"
      }
    },
    {
      "cell_type": "code",
      "source": [
        "features = dataset.iloc[:, :-1].values\n",
        "target = dataset.iloc[:, -1].values"
      ],
      "metadata": {
        "id": "qWb4z16k5ePI"
      },
      "execution_count": 3,
      "outputs": []
    },
    {
      "cell_type": "markdown",
      "source": [
        "### Split the data into training and testing sets\n"
      ],
      "metadata": {
        "id": "-3Xe-ZVW5h9M"
      }
    },
    {
      "cell_type": "code",
      "source": [
        "train_features, test_features, train_target, test_target = train_test_split(features, target, test_size=0.2)\n"
      ],
      "metadata": {
        "id": "UMQ9Q2U65jyi"
      },
      "execution_count": 4,
      "outputs": []
    },
    {
      "cell_type": "markdown",
      "source": [
        "### Scale the features so that they have a mean of 0 and a standard deviation of 1\n"
      ],
      "metadata": {
        "id": "vrvR-u-b5oiF"
      }
    },
    {
      "cell_type": "code",
      "source": [
        "scaler = StandardScaler()\n",
        "train_features = scaler.fit_transform(train_features)\n",
        "test_features = scaler.transform(test_features)"
      ],
      "metadata": {
        "id": "KV-EoIOq5pLZ"
      },
      "execution_count": 5,
      "outputs": []
    },
    {
      "cell_type": "markdown",
      "source": [
        "### Define the architecture of the MLP model\n"
      ],
      "metadata": {
        "id": "n0HlK6jz5sGx"
      }
    },
    {
      "cell_type": "code",
      "source": [
        "model = MLPRegressor(hidden_layer_sizes=(10, 10, 10), max_iter=1000, activation='relu', solver='adam')\n"
      ],
      "metadata": {
        "id": "9-AV6T7q5tZO"
      },
      "execution_count": 10,
      "outputs": []
    },
    {
      "cell_type": "markdown",
      "source": [
        "- We have tried to adjust the architecture here of the MLP model by changing the hidden layer sizes and the maximum number of iterations. We can try different activation functions and solvers to see if they improve the accuracy of the model.\n",
        "- We in the MLP model have defined with three hidden layers of sizes 10, 10, and 10, a maximum number of iterations of 1000, and the activation function relu and solver adam."
      ],
      "metadata": {
        "id": "WurVSofB6omy"
      }
    },
    {
      "cell_type": "markdown",
      "source": [
        "### Train the model using the training data\n"
      ],
      "metadata": {
        "id": "hQtlOL1D5w4h"
      }
    },
    {
      "cell_type": "code",
      "source": [
        "model.fit(train_features, train_target)\n"
      ],
      "metadata": {
        "colab": {
          "base_uri": "https://localhost:8080/"
        },
        "id": "yvaKyLG55y5C",
        "outputId": "60a450af-f16d-451a-9bcf-9ee3a3532e73"
      },
      "execution_count": 7,
      "outputs": [
        {
          "output_type": "execute_result",
          "data": {
            "text/plain": [
              "MLPRegressor(hidden_layer_sizes=(10, 10, 10), max_iter=1000)"
            ]
          },
          "metadata": {},
          "execution_count": 7
        }
      ]
    },
    {
      "cell_type": "markdown",
      "source": [
        "### Evaluate the model using the testing data\n"
      ],
      "metadata": {
        "id": "EgaZtc1r51BF"
      }
    },
    {
      "cell_type": "code",
      "source": [
        "predicted_target = model.predict(test_features)\n",
        "mse = mean_squared_error(test_target, predicted_target)\n",
        "print(\"Mean Squared Error of the model:\", mse)"
      ],
      "metadata": {
        "colab": {
          "base_uri": "https://localhost:8080/"
        },
        "id": "6-_GWeu3526c",
        "outputId": "f6d177e3-30a4-42f1-e732-11844eab1daa"
      },
      "execution_count": 8,
      "outputs": [
        {
          "output_type": "stream",
          "name": "stdout",
          "text": [
            "Mean Squared Error of the model: 12.474479984161112\n"
          ]
        }
      ]
    },
    {
      "cell_type": "markdown",
      "source": [
        "### Use the trained model to make predictions on new data\n"
      ],
      "metadata": {
        "id": "aGfV-nbv56WX"
      }
    },
    {
      "cell_type": "code",
      "source": [
        "new_data = np.array([[0.00632, 18.0, 2.31, 0, 0.538, 6.575, 65.2, 4.09, 1, 296.0, 15.3, 396.9, 4.98]])\n",
        "new_data = scaler.transform(new_data)\n",
        "prediction = model.predict(new_data)\n",
        "print(\"Predicted selling price:\", prediction)"
      ],
      "metadata": {
        "colab": {
          "base_uri": "https://localhost:8080/"
        },
        "id": "jshtLd5z58RX",
        "outputId": "6fd71487-aed7-4b5b-aa9f-d95d88cf406e"
      },
      "execution_count": 9,
      "outputs": [
        {
          "output_type": "stream",
          "name": "stdout",
          "text": [
            "Predicted selling price: [30.89593961]\n"
          ]
        }
      ]
    }
  ]
}