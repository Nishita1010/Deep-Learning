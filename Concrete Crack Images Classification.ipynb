{
  "nbformat": 4,
  "nbformat_minor": 0,
  "metadata": {
    "colab": {
      "provenance": []
    },
    "kernelspec": {
      "name": "python3",
      "display_name": "Python 3"
    },
    "language_info": {
      "name": "python"
    }
  },
  "cells": [
    {
      "cell_type": "markdown",
      "source": [
        "#**Question 2: Concrete Crack Image Classification**\n",
        "\n",
        "\n",
        "\n",
        "\n",
        "\n",
        "\n",
        "\n",
        "\n"
      ],
      "metadata": {
        "id": "oJeNKfrf_XxQ"
      }
    },
    {
      "cell_type": "markdown",
      "source": [
        "##**Problem Statement:**\n",
        "A Binary Image Classification problem is solved by building and training a model by deep ANN. The same model is also trained by CNN so that, we can analyse or compare these two models and find out which model gives us more accurate output.\n",
        "\n",
        "###**Expected Outcome:**\n",
        "The model should be able to classify the images in 2 different classes.\n",
        "\n",
        "There should be an improvement in accuracy.\n",
        "\n",
        "We need to find out which model is fast.\n",
        "\n",
        "We need to find out which model can extract more imporatant features and is more robust.\n"
      ],
      "metadata": {
        "id": "i4K4iJG5AUK5"
      }
    },
    {
      "cell_type": "markdown",
      "source": [
        "##**Dataset Description:**\n",
        "The dataset contains concrete images having cracks. The data is collected from various\n",
        "METU Campus Buildings.\n",
        "The dataset is divided into two as negative and positive crack images for image\n",
        "classification. Each class has 20000images with a total of 40000 images with 227 x 227\n",
        "pixels with RGB channels. The dataset is generated from 458 high-resolution images\n",
        "(4032x3024 pixel) with the method proposed by Zhang et al (2016).\n",
        "High-resolution images have variance in terms of surface finish and illumination\n",
        "conditions. No data augmentation in terms of random rotation or flipping is applied.\n",
        "\n",
        "Link to the Dataset: \n",
        "\n",
        "URL: https://www.kaggle.com/datasets/arnavr10880/concrete-crack-images-for-classification/code"
      ],
      "metadata": {
        "id": "nJxg1B35AUpX"
      }
    },
    {
      "cell_type": "code",
      "execution_count": 52,
      "metadata": {
        "id": "RboPXE_Q_exT"
      },
      "outputs": [],
      "source": [
        "#Importing necessary Libraries\n",
        "import numpy as np\n",
        "import pandas as pd\n",
        "import matplotlib.pyplot as plt\n",
        "from sklearn.preprocessing import StandardScaler\n",
        "from sklearn.model_selection import train_test_split\n",
        "import keras\n",
        "import tensorflow as tf\n",
        "from keras.models import Sequential\n",
        "from keras.layers import Dense, Dropout, Flatten\n",
        "from random import randint"
      ]
    },
    {
      "cell_type": "code",
      "source": [
        "#Install Kaggle\n",
        "!pip install -q kaggle"
      ],
      "metadata": {
        "id": "M5gBwEah7100"
      },
      "execution_count": 53,
      "outputs": []
    },
    {
      "cell_type": "code",
      "source": [
        "from google.colab import files\n",
        "files.upload()"
      ],
      "metadata": {
        "colab": {
          "base_uri": "https://localhost:8080/",
          "height": 90
        },
        "id": "GAKO6i5F8I-f",
        "outputId": "8d27b676-2af9-446c-f729-ce890abc77e6"
      },
      "execution_count": 54,
      "outputs": [
        {
          "output_type": "display_data",
          "data": {
            "text/plain": [
              "<IPython.core.display.HTML object>"
            ],
            "text/html": [
              "\n",
              "     <input type=\"file\" id=\"files-8c6ecead-beb4-4742-bbf6-61ebfb493c3d\" name=\"files[]\" multiple disabled\n",
              "        style=\"border:none\" />\n",
              "     <output id=\"result-8c6ecead-beb4-4742-bbf6-61ebfb493c3d\">\n",
              "      Upload widget is only available when the cell has been executed in the\n",
              "      current browser session. Please rerun this cell to enable.\n",
              "      </output>\n",
              "      <script>// Copyright 2017 Google LLC\n",
              "//\n",
              "// Licensed under the Apache License, Version 2.0 (the \"License\");\n",
              "// you may not use this file except in compliance with the License.\n",
              "// You may obtain a copy of the License at\n",
              "//\n",
              "//      http://www.apache.org/licenses/LICENSE-2.0\n",
              "//\n",
              "// Unless required by applicable law or agreed to in writing, software\n",
              "// distributed under the License is distributed on an \"AS IS\" BASIS,\n",
              "// WITHOUT WARRANTIES OR CONDITIONS OF ANY KIND, either express or implied.\n",
              "// See the License for the specific language governing permissions and\n",
              "// limitations under the License.\n",
              "\n",
              "/**\n",
              " * @fileoverview Helpers for google.colab Python module.\n",
              " */\n",
              "(function(scope) {\n",
              "function span(text, styleAttributes = {}) {\n",
              "  const element = document.createElement('span');\n",
              "  element.textContent = text;\n",
              "  for (const key of Object.keys(styleAttributes)) {\n",
              "    element.style[key] = styleAttributes[key];\n",
              "  }\n",
              "  return element;\n",
              "}\n",
              "\n",
              "// Max number of bytes which will be uploaded at a time.\n",
              "const MAX_PAYLOAD_SIZE = 100 * 1024;\n",
              "\n",
              "function _uploadFiles(inputId, outputId) {\n",
              "  const steps = uploadFilesStep(inputId, outputId);\n",
              "  const outputElement = document.getElementById(outputId);\n",
              "  // Cache steps on the outputElement to make it available for the next call\n",
              "  // to uploadFilesContinue from Python.\n",
              "  outputElement.steps = steps;\n",
              "\n",
              "  return _uploadFilesContinue(outputId);\n",
              "}\n",
              "\n",
              "// This is roughly an async generator (not supported in the browser yet),\n",
              "// where there are multiple asynchronous steps and the Python side is going\n",
              "// to poll for completion of each step.\n",
              "// This uses a Promise to block the python side on completion of each step,\n",
              "// then passes the result of the previous step as the input to the next step.\n",
              "function _uploadFilesContinue(outputId) {\n",
              "  const outputElement = document.getElementById(outputId);\n",
              "  const steps = outputElement.steps;\n",
              "\n",
              "  const next = steps.next(outputElement.lastPromiseValue);\n",
              "  return Promise.resolve(next.value.promise).then((value) => {\n",
              "    // Cache the last promise value to make it available to the next\n",
              "    // step of the generator.\n",
              "    outputElement.lastPromiseValue = value;\n",
              "    return next.value.response;\n",
              "  });\n",
              "}\n",
              "\n",
              "/**\n",
              " * Generator function which is called between each async step of the upload\n",
              " * process.\n",
              " * @param {string} inputId Element ID of the input file picker element.\n",
              " * @param {string} outputId Element ID of the output display.\n",
              " * @return {!Iterable<!Object>} Iterable of next steps.\n",
              " */\n",
              "function* uploadFilesStep(inputId, outputId) {\n",
              "  const inputElement = document.getElementById(inputId);\n",
              "  inputElement.disabled = false;\n",
              "\n",
              "  const outputElement = document.getElementById(outputId);\n",
              "  outputElement.innerHTML = '';\n",
              "\n",
              "  const pickedPromise = new Promise((resolve) => {\n",
              "    inputElement.addEventListener('change', (e) => {\n",
              "      resolve(e.target.files);\n",
              "    });\n",
              "  });\n",
              "\n",
              "  const cancel = document.createElement('button');\n",
              "  inputElement.parentElement.appendChild(cancel);\n",
              "  cancel.textContent = 'Cancel upload';\n",
              "  const cancelPromise = new Promise((resolve) => {\n",
              "    cancel.onclick = () => {\n",
              "      resolve(null);\n",
              "    };\n",
              "  });\n",
              "\n",
              "  // Wait for the user to pick the files.\n",
              "  const files = yield {\n",
              "    promise: Promise.race([pickedPromise, cancelPromise]),\n",
              "    response: {\n",
              "      action: 'starting',\n",
              "    }\n",
              "  };\n",
              "\n",
              "  cancel.remove();\n",
              "\n",
              "  // Disable the input element since further picks are not allowed.\n",
              "  inputElement.disabled = true;\n",
              "\n",
              "  if (!files) {\n",
              "    return {\n",
              "      response: {\n",
              "        action: 'complete',\n",
              "      }\n",
              "    };\n",
              "  }\n",
              "\n",
              "  for (const file of files) {\n",
              "    const li = document.createElement('li');\n",
              "    li.append(span(file.name, {fontWeight: 'bold'}));\n",
              "    li.append(span(\n",
              "        `(${file.type || 'n/a'}) - ${file.size} bytes, ` +\n",
              "        `last modified: ${\n",
              "            file.lastModifiedDate ? file.lastModifiedDate.toLocaleDateString() :\n",
              "                                    'n/a'} - `));\n",
              "    const percent = span('0% done');\n",
              "    li.appendChild(percent);\n",
              "\n",
              "    outputElement.appendChild(li);\n",
              "\n",
              "    const fileDataPromise = new Promise((resolve) => {\n",
              "      const reader = new FileReader();\n",
              "      reader.onload = (e) => {\n",
              "        resolve(e.target.result);\n",
              "      };\n",
              "      reader.readAsArrayBuffer(file);\n",
              "    });\n",
              "    // Wait for the data to be ready.\n",
              "    let fileData = yield {\n",
              "      promise: fileDataPromise,\n",
              "      response: {\n",
              "        action: 'continue',\n",
              "      }\n",
              "    };\n",
              "\n",
              "    // Use a chunked sending to avoid message size limits. See b/62115660.\n",
              "    let position = 0;\n",
              "    do {\n",
              "      const length = Math.min(fileData.byteLength - position, MAX_PAYLOAD_SIZE);\n",
              "      const chunk = new Uint8Array(fileData, position, length);\n",
              "      position += length;\n",
              "\n",
              "      const base64 = btoa(String.fromCharCode.apply(null, chunk));\n",
              "      yield {\n",
              "        response: {\n",
              "          action: 'append',\n",
              "          file: file.name,\n",
              "          data: base64,\n",
              "        },\n",
              "      };\n",
              "\n",
              "      let percentDone = fileData.byteLength === 0 ?\n",
              "          100 :\n",
              "          Math.round((position / fileData.byteLength) * 100);\n",
              "      percent.textContent = `${percentDone}% done`;\n",
              "\n",
              "    } while (position < fileData.byteLength);\n",
              "  }\n",
              "\n",
              "  // All done.\n",
              "  yield {\n",
              "    response: {\n",
              "      action: 'complete',\n",
              "    }\n",
              "  };\n",
              "}\n",
              "\n",
              "scope.google = scope.google || {};\n",
              "scope.google.colab = scope.google.colab || {};\n",
              "scope.google.colab._files = {\n",
              "  _uploadFiles,\n",
              "  _uploadFilesContinue,\n",
              "};\n",
              "})(self);\n",
              "</script> "
            ]
          },
          "metadata": {}
        },
        {
          "output_type": "stream",
          "name": "stdout",
          "text": [
            "Saving kaggle.json to kaggle (1).json\n"
          ]
        },
        {
          "output_type": "execute_result",
          "data": {
            "text/plain": [
              "{'kaggle.json': b'{\"username\":\"nishitanamdeo\",\"key\":\"a307b56a7a439550b3912671146d2014\"}'}"
            ]
          },
          "metadata": {},
          "execution_count": 54
        }
      ]
    },
    {
      "cell_type": "code",
      "source": [
        "# create a Kaggle Forlder\n",
        "!mkdir -p ~/.kaggle\n",
        "# copy the kaggle.json file to folder created \n",
        "!cp kaggle.json ~/.kaggle"
      ],
      "metadata": {
        "id": "16WwBBo08QNI"
      },
      "execution_count": 55,
      "outputs": []
    },
    {
      "cell_type": "code",
      "source": [
        "!kaggle datasets download -d arnavr10880/concrete-crack-images-for-classification"
      ],
      "metadata": {
        "colab": {
          "base_uri": "https://localhost:8080/"
        },
        "id": "d06_T4xH8Zcm",
        "outputId": "c83c2571-73b5-47c8-9d2d-c473f562d07e"
      },
      "execution_count": 56,
      "outputs": [
        {
          "output_type": "stream",
          "name": "stdout",
          "text": [
            "Warning: Your Kaggle API key is readable by other users on this system! To fix this, you can run 'chmod 600 /root/.kaggle/kaggle.json'\n",
            "concrete-crack-images-for-classification.zip: Skipping, found more recently modified local copy (use --force to force download)\n"
          ]
        }
      ]
    },
    {
      "cell_type": "code",
      "source": [
        "import zipfile\n",
        "zip_ref = zipfile.ZipFile('/content/concrete-crack-images-for-classification.zip', 'r')\n",
        "zip_ref.extractall('/content')\n",
        "zip_ref.close()"
      ],
      "metadata": {
        "id": "3jU96JTp_oJt"
      },
      "execution_count": 57,
      "outputs": []
    },
    {
      "cell_type": "code",
      "source": [
        "import glob\n",
        "negative = glob.glob('/content/Negative/*.*')\n",
        "positive = glob.glob('/content/Positive/*.*')"
      ],
      "metadata": {
        "id": "8Yvx8M6S9duU"
      },
      "execution_count": 58,
      "outputs": []
    },
    {
      "cell_type": "code",
      "source": [
        "data = []\n",
        "labels = []"
      ],
      "metadata": {
        "id": "dvqs3uFq93s_"
      },
      "execution_count": 59,
      "outputs": []
    },
    {
      "cell_type": "code",
      "source": [
        "for i in positive:   \n",
        "    image=tf.keras.preprocessing.image.load_img(i,target_size= (28,28))\n",
        "    image=np.array(image)\n",
        "    data.append(image)\n",
        "    labels.append(0)\n",
        "for i in negative:   \n",
        "    image=tf.keras.preprocessing.image.load_img(i,target_size=(28,28))\n",
        "    image=np.array(image)\n",
        "    data.append(image)\n",
        "    labels.append(1)"
      ],
      "metadata": {
        "id": "j4QfPkrb9639"
      },
      "execution_count": 60,
      "outputs": []
    },
    {
      "cell_type": "code",
      "source": [
        "Data = np.array(data)\n",
        "Labels = np.array(labels)"
      ],
      "metadata": {
        "id": "r0apGI15972p"
      },
      "execution_count": 61,
      "outputs": []
    },
    {
      "cell_type": "code",
      "source": [
        "from sklearn.model_selection import train_test_split\n",
        "X_train, X_test, y_train, y_test = train_test_split(Data, Labels, test_size=0.2)"
      ],
      "metadata": {
        "id": "s7DmX4Sb-D0J"
      },
      "execution_count": 62,
      "outputs": []
    },
    {
      "cell_type": "code",
      "source": [
        "classes = [\"positive\",\"negative\"]"
      ],
      "metadata": {
        "id": "JT6F_6C8-HJE"
      },
      "execution_count": 63,
      "outputs": []
    },
    {
      "cell_type": "code",
      "source": [
        "f,ax = plt.subplots(4,4) \n",
        "\n",
        "f.subplots_adjust(0,0,3,3)\n",
        "for i in range(0,4,1):\n",
        "    for j in range(0,4,1):\n",
        "        rnd_number = randint(0,len(X_train))\n",
        "        ax[i,j].imshow(X_train[rnd_number])\n",
        "        ax[i,j].axis('off')"
      ],
      "metadata": {
        "colab": {
          "base_uri": "https://localhost:8080/",
          "height": 895
        },
        "id": "ah5GDqAm-KGv",
        "outputId": "1b004f2f-0be3-4ae9-9309-591c3b5df6dc"
      },
      "execution_count": 64,
      "outputs": [
        {
          "output_type": "display_data",
          "data": {
            "text/plain": [
              "<Figure size 432x288 with 16 Axes>"
            ],
            "image/png": "[encoded data removed]"
          },
          "metadata": {
            "needs_background": "light"
          }
        }
      ]
    },
    {
      "cell_type": "code",
      "source": [
        "X_train = X_train.astype('float32')\n",
        "X_test = X_test.astype('float32')\n",
        "X_train /= 255\n",
        "X_test /= 255\n",
        "\n",
        "print(X_train.shape[0], 'train samples')\n",
        "print(X_test.shape[0], 'test samples')\n",
        "\n",
        "# Convert class vectors to binary class matrices\n",
        "y_train = keras.utils.to_categorical(y_train, 2)\n",
        "y_test = keras.utils.to_categorical(y_test, 2)"
      ],
      "metadata": {
        "colab": {
          "base_uri": "https://localhost:8080/"
        },
        "id": "XVe1ktKL-eCs",
        "outputId": "d4ce6e65-a57b-4f5d-a029-f0808300c14e"
      },
      "execution_count": 65,
      "outputs": [
        {
          "output_type": "stream",
          "name": "stdout",
          "text": [
            "32000 train samples\n",
            "8000 test samples\n"
          ]
        }
      ]
    },
    {
      "cell_type": "code",
      "source": [
        "X_train.shape"
      ],
      "metadata": {
        "colab": {
          "base_uri": "https://localhost:8080/"
        },
        "id": "R8B_McpV-hkg",
        "outputId": "94af9876-00c6-4d7e-a539-6d1990612207"
      },
      "execution_count": 66,
      "outputs": [
        {
          "output_type": "execute_result",
          "data": {
            "text/plain": [
              "(32000, 28, 28, 3)"
            ]
          },
          "metadata": {},
          "execution_count": 66
        }
      ]
    },
    {
      "cell_type": "code",
      "source": [
        "X_test.shape"
      ],
      "metadata": {
        "colab": {
          "base_uri": "https://localhost:8080/"
        },
        "id": "j0ixkI4j-iA6",
        "outputId": "8a24c58e-30f2-4598-96dc-77d2d6079968"
      },
      "execution_count": 67,
      "outputs": [
        {
          "output_type": "execute_result",
          "data": {
            "text/plain": [
              "(8000, 28, 28, 3)"
            ]
          },
          "metadata": {},
          "execution_count": 67
        }
      ]
    },
    {
      "cell_type": "code",
      "source": [
        "y_test"
      ],
      "metadata": {
        "colab": {
          "base_uri": "https://localhost:8080/"
        },
        "id": "oQiCKiIj-j0E",
        "outputId": "8a91be34-4bf3-4c21-ae27-34c7e4de6967"
      },
      "execution_count": 85,
      "outputs": [
        {
          "output_type": "execute_result",
          "data": {
            "text/plain": [
              "array([[1., 0.],\n",
              "       [1., 0.],\n",
              "       [1., 0.],\n",
              "       ...,\n",
              "       [0., 1.],\n",
              "       [0., 1.],\n",
              "       [0., 1.]], dtype=float32)"
            ]
          },
          "metadata": {},
          "execution_count": 85
        }
      ]
    },
    {
      "cell_type": "code",
      "source": [
        "#ANN Model\n",
        "model = keras.models.Sequential([\n",
        "    keras.layers.Flatten(input_shape=[28, 28,3]),\n",
        "    keras.layers.Dense(300, activation=\"relu\"),\n",
        "    keras.layers.Dense(100, activation=\"relu\"),\n",
        "    keras.layers.Dense(2, activation=\"softmax\")\n",
        "])\n",
        "\n",
        "model.compile(loss='categorical_crossentropy', optimizer='adam', metrics=['accuracy'])\n",
        "model.layers"
      ],
      "metadata": {
        "colab": {
          "base_uri": "https://localhost:8080/"
        },
        "id": "FmwU091b-l0d",
        "outputId": "4ee7d3f0-9d2c-4818-a60c-b18ceff71b51"
      },
      "execution_count": 86,
      "outputs": [
        {
          "output_type": "execute_result",
          "data": {
            "text/plain": [
              "[<keras.layers.reshaping.flatten.Flatten at 0x7f852e3afbe0>,\n",
              " <keras.layers.core.dense.Dense at 0x7f852edd2df0>,\n",
              " <keras.layers.core.dense.Dense at 0x7f852edd28e0>,\n",
              " <keras.layers.core.dense.Dense at 0x7f852edd2460>]"
            ]
          },
          "metadata": {},
          "execution_count": 86
        }
      ]
    },
    {
      "cell_type": "code",
      "source": [
        "model.summary()"
      ],
      "metadata": {
        "colab": {
          "base_uri": "https://localhost:8080/"
        },
        "id": "r-N2bcgI-sjD",
        "outputId": "10f74512-a0c6-4da7-e1a5-68660d6788f8"
      },
      "execution_count": 70,
      "outputs": [
        {
          "output_type": "stream",
          "name": "stdout",
          "text": [
            "Model: \"sequential_5\"\n",
            "_________________________________________________________________\n",
            " Layer (type)                Output Shape              Param #   \n",
            "=================================================================\n",
            " flatten_4 (Flatten)         (None, 2352)              0         \n",
            "                                                                 \n",
            " dense_11 (Dense)            (None, 300)               705900    \n",
            "                                                                 \n",
            " dense_12 (Dense)            (None, 100)               30100     \n",
            "                                                                 \n",
            " dense_13 (Dense)            (None, 2)                 202       \n",
            "                                                                 \n",
            "=================================================================\n",
            "Total params: 736,202\n",
            "Trainable params: 736,202\n",
            "Non-trainable params: 0\n",
            "_________________________________________________________________\n"
          ]
        }
      ]
    },
    {
      "cell_type": "code",
      "source": [
        "history = model.fit(X_train, y_train, epochs=5,validation_data=(X_test, y_test))"
      ],
      "metadata": {
        "colab": {
          "base_uri": "https://localhost:8080/"
        },
        "id": "3UlWNtxp-zLE",
        "outputId": "d65ff7b9-8b29-44f6-da65-f5a3d1d1f8ef"
      },
      "execution_count": 71,
      "outputs": [
        {
          "output_type": "stream",
          "name": "stdout",
          "text": [
            "Epoch 1/5\n",
            "1000/1000 [==============================] - 16s 15ms/step - loss: 0.4825 - accuracy: 0.7630 - val_loss: 0.3834 - val_accuracy: 0.8326\n",
            "Epoch 2/5\n",
            "1000/1000 [==============================] - 17s 17ms/step - loss: 0.3417 - accuracy: 0.8534 - val_loss: 0.2879 - val_accuracy: 0.8839\n",
            "Epoch 3/5\n",
            "1000/1000 [==============================] - 15s 15ms/step - loss: 0.3043 - accuracy: 0.8748 - val_loss: 0.4013 - val_accuracy: 0.8210\n",
            "Epoch 4/5\n",
            "1000/1000 [==============================] - 17s 17ms/step - loss: 0.2922 - accuracy: 0.8808 - val_loss: 0.3427 - val_accuracy: 0.8482\n",
            "Epoch 5/5\n",
            "1000/1000 [==============================] - 14s 14ms/step - loss: 0.2596 - accuracy: 0.8979 - val_loss: 0.2744 - val_accuracy: 0.8921\n"
          ]
        }
      ]
    },
    {
      "cell_type": "code",
      "source": [
        "import matplotlib.pyplot as plt\n",
        "\n",
        "plt.plot(history.history['accuracy'], label='accuracy')\n",
        "plt.plot(history.history['val_accuracy'], label='val_accuracy')\n",
        "plt.xlabel('Epoch')\n",
        "plt.ylabel('Accuracy')\n",
        "# plt.ylim([0.7, 1])\n",
        "plt.legend(loc='best')"
      ],
      "metadata": {
        "colab": {
          "base_uri": "https://localhost:8080/",
          "height": 296
        },
        "id": "YcF3UGF8-6Vj",
        "outputId": "884a1130-3650-4f37-c68d-947367d3ea9e"
      },
      "execution_count": 72,
      "outputs": [
        {
          "output_type": "execute_result",
          "data": {
            "text/plain": [
              "<matplotlib.legend.Legend at 0x7f853bb6fca0>"
            ]
          },
          "metadata": {},
          "execution_count": 72
        },
        {
          "output_type": "display_data",
          "data": {
            "text/plain": [
              "<Figure size 432x288 with 1 Axes>"
            ],
            "image/png": "[encoded data removed]"
          },
          "metadata": {
            "needs_background": "light"
          }
        }
      ]
    },
    {
      "cell_type": "code",
      "source": [
        "plt.plot(history.history['loss'], label='loss')\n",
        "plt.plot(history.history['val_loss'], label='val_loss')\n",
        "plt.xlabel('Epoch')\n",
        "plt.ylabel('Loss')\n",
        "plt.legend(loc='best')"
      ],
      "metadata": {
        "colab": {
          "base_uri": "https://localhost:8080/",
          "height": 296
        },
        "id": "UufeiIXn-8k1",
        "outputId": "f9433496-2d01-4453-f571-2f0b062c215a"
      },
      "execution_count": 73,
      "outputs": [
        {
          "output_type": "execute_result",
          "data": {
            "text/plain": [
              "<matplotlib.legend.Legend at 0x7f853baa9e20>"
            ]
          },
          "metadata": {},
          "execution_count": 73
        },
        {
          "output_type": "display_data",
          "data": {
            "text/plain": [
              "<Figure size 432x288 with 1 Axes>"
            ],
            "image/png": "[encoded data removed]"
          },
          "metadata": {
            "needs_background": "light"
          }
        }
      ]
    },
    {
      "cell_type": "code",
      "source": [
        "predicted = model.predict(X_test)"
      ],
      "metadata": {
        "colab": {
          "base_uri": "https://localhost:8080/"
        },
        "id": "Ml5E-kir--vQ",
        "outputId": "eaa780a2-9ede-454e-9f40-70db1805255b"
      },
      "execution_count": 74,
      "outputs": [
        {
          "output_type": "stream",
          "name": "stdout",
          "text": [
            "250/250 [==============================] - 2s 6ms/step\n"
          ]
        }
      ]
    },
    {
      "cell_type": "code",
      "source": [
        "ind = 9\n",
        "sample_image = X_test[ind]\n",
        "\n",
        "pixels = sample_image.reshape((28, 28,3))\n",
        "plt.imshow(pixels, cmap='gray')\n",
        "plt.show()\n",
        "print(' Real label :',classes[np.argmax(y_test[ind])])\n",
        "print(' Predicted label:',classes[np.argmax(predicted[ind])])"
      ],
      "metadata": {
        "colab": {
          "base_uri": "https://localhost:8080/",
          "height": 300
        },
        "id": "L-ICXTew_CJs",
        "outputId": "291ae356-9441-41fe-be69-bab74c88c1c9"
      },
      "execution_count": 75,
      "outputs": [
        {
          "output_type": "display_data",
          "data": {
            "text/plain": [
              "<Figure size 432x288 with 1 Axes>"
            ],
            "image/png": "[encoded data removed]"
          },
          "metadata": {
            "needs_background": "light"
          }
        },
        {
          "output_type": "stream",
          "name": "stdout",
          "text": [
            " Real label : negative\n",
            " Predicted label: negative\n"
          ]
        }
      ]
    },
    {
      "cell_type": "code",
      "source": [
        "ind = 100\n",
        "sample_image = X_test[ind]\n",
        "\n",
        "pixels = sample_image.reshape((28, 28,3))\n",
        "plt.imshow(pixels, cmap='gray')\n",
        "plt.show()\n",
        "print(' Real label :',classes[np.argmax(y_test[ind])])\n",
        "print(' Predicted label:',classes[np.argmax(predicted[ind])])"
      ],
      "metadata": {
        "colab": {
          "base_uri": "https://localhost:8080/",
          "height": 300
        },
        "id": "UVHwS551K-t6",
        "outputId": "aec6bb9f-d614-40c0-ff5c-2cd534d5e0a3"
      },
      "execution_count": 84,
      "outputs": [
        {
          "output_type": "display_data",
          "data": {
            "text/plain": [
              "<Figure size 432x288 with 1 Axes>"
            ],
            "image/png": "[encoded data removed]"
          },
          "metadata": {
            "needs_background": "light"
          }
        },
        {
          "output_type": "stream",
          "name": "stdout",
          "text": [
            " Real label : positive\n",
            " Predicted label: positive\n"
          ]
        }
      ]
    },
    {
      "cell_type": "markdown",
      "source": [
        "#Second Method: CNN Model"
      ],
      "metadata": {
        "id": "vLLWg_mtB104"
      }
    },
    {
      "cell_type": "code",
      "source": [
        "from keras.layers.convolutional import Conv2D\n",
        "from keras.layers.convolutional import MaxPooling2D\n",
        "\n",
        "two = Sequential()\n",
        "two.add(Conv2D(32, (3,3), input_shape= (28,28,3), activation = 'relu', padding = 'same'))\n",
        "two.add(MaxPooling2D())\n",
        "\n",
        "two.add(Conv2D(64, (3,3), activation = 'relu', padding = 'same'))\n",
        "two.add(MaxPooling2D())\n",
        "\n",
        "two.add(Conv2D(128, (3,3), activation = 'relu', padding = 'same')) \n",
        "two.add(MaxPooling2D())\n",
        "\n",
        "two.add(Conv2D(256, (3,3), activation = 'relu', padding = 'same')) \n",
        "two.add(MaxPooling2D())\n",
        "\n",
        "two.add(Flatten())\n",
        "\n",
        "two.add(Dense(256, activation='relu'))\n",
        "two.add(Dropout(0.3))\n",
        "two.add(Dense(2, activation = 'sigmoid'))\n",
        "two.compile(loss='categorical_crossentropy',optimizer = 'adam', metrics = ['accuracy'])"
      ],
      "metadata": {
        "id": "M41OGo7w_EPK"
      },
      "execution_count": 76,
      "outputs": []
    },
    {
      "cell_type": "code",
      "source": [
        "two.summary()"
      ],
      "metadata": {
        "colab": {
          "base_uri": "https://localhost:8080/"
        },
        "id": "mKfXO_ZKCOfd",
        "outputId": "28151d32-d558-4121-8e57-a2ab906e7243"
      },
      "execution_count": 77,
      "outputs": [
        {
          "output_type": "stream",
          "name": "stdout",
          "text": [
            "Model: \"sequential_6\"\n",
            "_________________________________________________________________\n",
            " Layer (type)                Output Shape              Param #   \n",
            "=================================================================\n",
            " conv2d_4 (Conv2D)           (None, 28, 28, 32)        896       \n",
            "                                                                 \n",
            " max_pooling2d_4 (MaxPooling  (None, 14, 14, 32)       0         \n",
            " 2D)                                                             \n",
            "                                                                 \n",
            " conv2d_5 (Conv2D)           (None, 14, 14, 64)        18496     \n",
            "                                                                 \n",
            " max_pooling2d_5 (MaxPooling  (None, 7, 7, 64)         0         \n",
            " 2D)                                                             \n",
            "                                                                 \n",
            " conv2d_6 (Conv2D)           (None, 7, 7, 128)         73856     \n",
            "                                                                 \n",
            " max_pooling2d_6 (MaxPooling  (None, 3, 3, 128)        0         \n",
            " 2D)                                                             \n",
            "                                                                 \n",
            " conv2d_7 (Conv2D)           (None, 3, 3, 256)         295168    \n",
            "                                                                 \n",
            " max_pooling2d_7 (MaxPooling  (None, 1, 1, 256)        0         \n",
            " 2D)                                                             \n",
            "                                                                 \n",
            " flatten_5 (Flatten)         (None, 256)               0         \n",
            "                                                                 \n",
            " dense_14 (Dense)            (None, 256)               65792     \n",
            "                                                                 \n",
            " dropout_1 (Dropout)         (None, 256)               0         \n",
            "                                                                 \n",
            " dense_15 (Dense)            (None, 2)                 514       \n",
            "                                                                 \n",
            "=================================================================\n",
            "Total params: 454,722\n",
            "Trainable params: 454,722\n",
            "Non-trainable params: 0\n",
            "_________________________________________________________________\n"
          ]
        }
      ]
    },
    {
      "cell_type": "code",
      "source": [
        "history_two = two.fit(X_train, y_train, epochs= 5, validation_data=(X_test, y_test))"
      ],
      "metadata": {
        "colab": {
          "base_uri": "https://localhost:8080/"
        },
        "id": "Fxtqhzj0CTUW",
        "outputId": "ad9d21ce-063b-4203-bd47-5694183e841f"
      },
      "execution_count": 78,
      "outputs": [
        {
          "output_type": "stream",
          "name": "stdout",
          "text": [
            "Epoch 1/5\n",
            "1000/1000 [==============================] - 102s 100ms/step - loss: 0.0570 - accuracy: 0.9789 - val_loss: 0.0298 - val_accuracy: 0.9901\n",
            "Epoch 2/5\n",
            "1000/1000 [==============================] - 98s 98ms/step - loss: 0.0300 - accuracy: 0.9904 - val_loss: 0.0159 - val_accuracy: 0.9950\n",
            "Epoch 3/5\n",
            "1000/1000 [==============================] - 104s 104ms/step - loss: 0.0219 - accuracy: 0.9937 - val_loss: 0.0219 - val_accuracy: 0.9924\n",
            "Epoch 4/5\n",
            "1000/1000 [==============================] - 104s 104ms/step - loss: 0.0174 - accuracy: 0.9950 - val_loss: 0.0129 - val_accuracy: 0.9961\n",
            "Epoch 5/5\n",
            "1000/1000 [==============================] - 102s 102ms/step - loss: 0.0140 - accuracy: 0.9958 - val_loss: 0.0087 - val_accuracy: 0.9979\n"
          ]
        }
      ]
    },
    {
      "cell_type": "code",
      "source": [
        "plt.plot(history_two.history['accuracy'], label='accuracy')\n",
        "plt.plot(history_two.history['val_accuracy'], label='val_accuracy')\n",
        "plt.xlabel('Epoch')\n",
        "plt.ylabel('Accuracy')\n",
        "plt.legend(loc='best')"
      ],
      "metadata": {
        "colab": {
          "base_uri": "https://localhost:8080/",
          "height": 296
        },
        "id": "ZvyBOlUACUoa",
        "outputId": "a5ce17f1-dbf8-4748-d2a6-10526029da2b"
      },
      "execution_count": 79,
      "outputs": [
        {
          "output_type": "execute_result",
          "data": {
            "text/plain": [
              "<matplotlib.legend.Legend at 0x7f85115ef1f0>"
            ]
          },
          "metadata": {},
          "execution_count": 79
        },
        {
          "output_type": "display_data",
          "data": {
            "text/plain": [
              "<Figure size 432x288 with 1 Axes>"
            ],
            "image/png": "[encoded data removed]"
          },
          "metadata": {
            "needs_background": "light"
          }
        }
      ]
    },
    {
      "cell_type": "code",
      "source": [
        "plt.plot(history_two.history['loss'], label='loss')\n",
        "plt.plot(history_two.history['val_loss'], label='val_loss')\n",
        "plt.xlabel('Epoch')\n",
        "plt.ylabel('Loss')\n",
        "plt.legend(loc='best')"
      ],
      "metadata": {
        "colab": {
          "base_uri": "https://localhost:8080/",
          "height": 296
        },
        "id": "YsHhU9tCCYOp",
        "outputId": "9c8ac03b-0cd6-4ecb-bb0c-cb4148853e30"
      },
      "execution_count": 80,
      "outputs": [
        {
          "output_type": "execute_result",
          "data": {
            "text/plain": [
              "<matplotlib.legend.Legend at 0x7f852e440280>"
            ]
          },
          "metadata": {},
          "execution_count": 80
        },
        {
          "output_type": "display_data",
          "data": {
            "text/plain": [
              "<Figure size 432x288 with 1 Axes>"
            ],
            "image/png": "[encoded data removed]"
          },
          "metadata": {
            "needs_background": "light"
          }
        }
      ]
    },
    {
      "cell_type": "code",
      "source": [
        "predicted2 = two.predict(X_test)"
      ],
      "metadata": {
        "colab": {
          "base_uri": "https://localhost:8080/"
        },
        "id": "Pr3VVCb1Cegu",
        "outputId": "0c5d3aca-814a-4e30-a63a-1d7bda3a2894"
      },
      "execution_count": 81,
      "outputs": [
        {
          "output_type": "stream",
          "name": "stdout",
          "text": [
            "250/250 [==============================] - 5s 20ms/step\n"
          ]
        }
      ]
    },
    {
      "cell_type": "code",
      "source": [
        "#Prediction: 1\n",
        "ind = 9\n",
        "sample_image = X_test[ind]\n",
        "\n",
        "pixels = sample_image.reshape((28, 28,3))\n",
        "plt.imshow(pixels, cmap='gray')\n",
        "plt.show()\n",
        "print(' Real label :',classes[np.argmax(y_test[ind])])\n",
        "print(' Predicted label:',classes[np.argmax(predicted[ind])])"
      ],
      "metadata": {
        "colab": {
          "base_uri": "https://localhost:8080/",
          "height": 300
        },
        "id": "RV3CWrKsCiPp",
        "outputId": "8ba9b9f8-6ae1-4ed8-c69b-24aec9caac4d"
      },
      "execution_count": 82,
      "outputs": [
        {
          "output_type": "display_data",
          "data": {
            "text/plain": [
              "<Figure size 432x288 with 1 Axes>"
            ],
            "image/png": "[encoded data removed]"
          },
          "metadata": {
            "needs_background": "light"
          }
        },
        {
          "output_type": "stream",
          "name": "stdout",
          "text": [
            " Real label : negative\n",
            " Predicted label: negative\n"
          ]
        }
      ]
    },
    {
      "cell_type": "code",
      "source": [
        "#Prediction: 2\n",
        "ind = 100\n",
        "sample_image = X_test[ind]\n",
        "\n",
        "pixels = sample_image.reshape((28, 28,3))\n",
        "plt.imshow(pixels, cmap='gray')\n",
        "plt.show()\n",
        "print(' Real label :',classes[np.argmax(y_test[ind])])\n",
        "print(' Predicted label:',classes[np.argmax(predicted[ind])])"
      ],
      "metadata": {
        "id": "aCGhov_lCi6Y",
        "colab": {
          "base_uri": "https://localhost:8080/",
          "height": 300
        },
        "outputId": "c717294c-d1c7-4905-8af1-ca2142c45986"
      },
      "execution_count": 83,
      "outputs": [
        {
          "output_type": "display_data",
          "data": {
            "text/plain": [
              "<Figure size 432x288 with 1 Axes>"
            ],
            "image/png": "[encoded data removed]"
          },
          "metadata": {
            "needs_background": "light"
          }
        },
        {
          "output_type": "stream",
          "name": "stdout",
          "text": [
            " Real label : positive\n",
            " Predicted label: positive\n"
          ]
        }
      ]
    },
    {
      "cell_type": "markdown",
      "source": [
        "#**Conclusion:**"
      ],
      "metadata": {
        "id": "IEZWrFQnRu9w"
      }
    },
    {
      "cell_type": "code",
      "source": [
        "plt.plot(history.history['accuracy'], label='1st Model')\n",
        "plt.plot(history_two.history['accuracy'], label='2nd Model')\n",
        "plt.xlabel('Epoch')\n",
        "plt.ylabel('accuracy')\n",
        "plt.legend(loc='best')"
      ],
      "metadata": {
        "colab": {
          "base_uri": "https://localhost:8080/",
          "height": 296
        },
        "id": "StdHBMDDP3kY",
        "outputId": "2e773a8f-d9af-4e2d-9f43-ba9526c50cd4"
      },
      "execution_count": 87,
      "outputs": [
        {
          "output_type": "execute_result",
          "data": {
            "text/plain": [
              "<matplotlib.legend.Legend at 0x7f852e47cd30>"
            ]
          },
          "metadata": {},
          "execution_count": 87
        },
        {
          "output_type": "display_data",
          "data": {
            "text/plain": [
              "<Figure size 432x288 with 1 Axes>"
            ],
            "image/png": "[encoded data removed]"
          },
          "metadata": {
            "needs_background": "light"
          }
        }
      ]
    },
    {
      "cell_type": "code",
      "source": [
        "plt.plot(history.history['loss'], label='1st Model')\n",
        "plt.plot(history_two.history['loss'], label='2nd Model')\n",
        "plt.xlabel('Epoch')\n",
        "plt.ylabel('Loss')\n",
        "plt.legend(loc='best')"
      ],
      "metadata": {
        "colab": {
          "base_uri": "https://localhost:8080/",
          "height": 298
        },
        "id": "F_jeTEXbP3Sl",
        "outputId": "99283adf-83dc-423e-b8ee-b8eb04e8c05a"
      },
      "execution_count": 88,
      "outputs": [
        {
          "output_type": "execute_result",
          "data": {
            "text/plain": [
              "<matplotlib.legend.Legend at 0x7f852c009d60>"
            ]
          },
          "metadata": {},
          "execution_count": 88
        },
        {
          "output_type": "display_data",
          "data": {
            "text/plain": [
              "<Figure size 432x288 with 1 Axes>"
            ],
            "image/png": "[encoded data removed]"
          },
          "metadata": {
            "needs_background": "light"
          }
        }
      ]
    },
    {
      "cell_type": "markdown",
      "source": [
        "###Again from the above plots we can clearly observe that our second model is more accurate than the first model. The CNN model is more accurate, fast, requires less preprocessing and, is more spatially aware than ANN.\n",
        "\n",
        "\n",
        "\n"
      ],
      "metadata": {
        "id": "GVHNv-djPwYU"
      }
    },
    {
      "cell_type": "markdown",
      "source": [
        "#####*(Spatial: CNNs can learn to recognize features in an image regardless of their position in the image, leading to spatial invariance. This means that if the same feature is present in different parts of the image, the CNN can recognize it regardless of its location.) "
      ],
      "metadata": {
        "id": "vRkggt8rRYpS"
      }
    }
  ]
}