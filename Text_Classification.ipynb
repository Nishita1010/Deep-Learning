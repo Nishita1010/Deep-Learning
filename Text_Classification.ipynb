{
  "nbformat": 4,
  "nbformat_minor": 0,
  "metadata": {
    "colab": {
      "provenance": []
    },
    "kernelspec": {
      "name": "python3",
      "display_name": "Python 3"
    },
    "language_info": {
      "name": "python"
    }
  },
  "cells": [
    {
      "cell_type": "markdown",
      "source": [
        "#**PROGRAMMING ASSIGNMENT 2: TEXT CLASSIFICATION**\n",
        "##QUESTION 1 : CYBERBULLYING CLASSIFICATION"
      ],
      "metadata": {
        "id": "HoDT2dlZpXfj"
      }
    },
    {
      "cell_type": "markdown",
      "source": [
        "####**Problem Statement :**\n",
        "####Analysize and Create a multiclassification model to predict cyberbullying type among 6 categories.\n",
        "\n",
        "\n",
        "\n",
        "\n",
        "\n",
        "\n",
        "\n"
      ],
      "metadata": {
        "id": "NLtYVCFSsnY6"
      }
    },
    {
      "cell_type": "markdown",
      "source": [
        "####**Data Set :** \n",
        "The statistics of cyberbullying are outright alarming: 36.5% of middle and high school students have felt cyberbullied and 87% have observed cyberbullying, with effects ranging from decreased academic performance to depression to suicidal thoughts.\n",
        "\n",
        "####In light of all of this, this dataset contains more than 47000 tweets labelled according to the class of cyberbullying:\n",
        "\n",
        "\n",
        "*   Age\n",
        "*   Ethnicity\n",
        "\n",
        "*   Gender\n",
        "*   Religion\n",
        "\n",
        "*   Other type of cyberbullying\n",
        "*   Not cyberbullying\n",
        "\n",
        "####The data has been balanced in order to contain ~8000 of each class.\n",
        "\n",
        "\n",
        "\n",
        "####**Link to dataset :** https://www.kaggle.com/datasets/andrewmvd/cyberbullying-classific"
      ],
      "metadata": {
        "id": "Z55IQLznuR9o"
      }
    },
    {
      "cell_type": "markdown",
      "source": [
        "###Import Libraries"
      ],
      "metadata": {
        "id": "y6T6K0Spp_Al"
      }
    },
    {
      "cell_type": "code",
      "execution_count": 123,
      "metadata": {
        "id": "X47h5cLEmnrt",
        "colab": {
          "base_uri": "https://localhost:8080/"
        },
        "outputId": "d1631370-e824-4c87-e34d-e9f85c8e9e2d"
      },
      "outputs": [
        {
          "output_type": "stream",
          "name": "stderr",
          "text": [
            "[nltk_data] Downloading package punkt to /root/nltk_data...\n",
            "[nltk_data]   Package punkt is already up-to-date!\n",
            "[nltk_data] Downloading package stopwords to /root/nltk_data...\n",
            "[nltk_data]   Package stopwords is already up-to-date!\n"
          ]
        },
        {
          "output_type": "execute_result",
          "data": {
            "text/plain": [
              "True"
            ]
          },
          "metadata": {},
          "execution_count": 123
        }
      ],
      "source": [
        "import pandas as pd\n",
        "import numpy as np\n",
        "import matplotlib.pyplot as plt\n",
        "from sklearn.model_selection import train_test_split\n",
        "from nltk import word_tokenize\n",
        "from tensorflow.keras.preprocessing.text import Tokenizer\n",
        "from tensorflow.keras.preprocessing import sequence\n",
        "from tensorflow.keras.layers import LSTM, Activation, Dense, Dropout, Input, Embedding\n",
        "from sklearn.metrics import accuracy_score, f1_score, confusion_matrix, classification_report\n",
        "from tensorflow.keras.models import Model\n",
        "import re\n",
        "from tensorflow.keras.utils import to_categorical\n",
        "from sklearn.preprocessing import LabelEncoder\n",
        "from sklearn.linear_model import LogisticRegression\n",
        "from sklearn.model_selection import cross_val_score\n",
        "import matplotlib.pyplot as plt\n",
        "\n",
        "import nltk\n",
        "from nltk.corpus import stopwords\n",
        "nltk.download('punkt')\n",
        "nltk.download('stopwords')"
      ]
    },
    {
      "cell_type": "markdown",
      "source": [
        "###Load Cyberbullying Dataset"
      ],
      "metadata": {
        "id": "mBc4TnJpqaHx"
      }
    },
    {
      "cell_type": "code",
      "source": [
        "!cp /content/kaggle.json ~/.kaggle/kaggle.json"
      ],
      "metadata": {
        "id": "Lyt8OZhxm8ee"
      },
      "execution_count": 7,
      "outputs": []
    },
    {
      "cell_type": "code",
      "source": [
        "!kaggle datasets download -d andrewmvd/cyberbullying-classification"
      ],
      "metadata": {
        "colab": {
          "base_uri": "https://localhost:8080/"
        },
        "id": "_Rsxzw6VpEh_",
        "outputId": "8d0cb95e-a038-4608-adba-f42640159377"
      },
      "execution_count": 8,
      "outputs": [
        {
          "output_type": "stream",
          "name": "stdout",
          "text": [
            "Warning: Your Kaggle API key is readable by other users on this system! To fix this, you can run 'chmod 600 /root/.kaggle/kaggle.json'\n",
            "Downloading cyberbullying-classification.zip to /content\n",
            "  0% 0.00/2.82M [00:00<?, ?B/s]\n",
            "100% 2.82M/2.82M [00:00<00:00, 182MB/s]\n"
          ]
        }
      ]
    },
    {
      "cell_type": "code",
      "source": [
        "import zipfile\n",
        "zip_ref = zipfile.ZipFile('/content/cyberbullying-classification.zip', 'r')\n",
        "zip_ref.extractall('/content')\n",
        "zip_ref.close()"
      ],
      "metadata": {
        "id": "fmrBs4f1wLTw"
      },
      "execution_count": 9,
      "outputs": []
    },
    {
      "cell_type": "markdown",
      "source": [
        "###Split into Training and Test data"
      ],
      "metadata": {
        "id": "uIAozwmNqGa0"
      }
    },
    {
      "cell_type": "code",
      "source": [
        "cybd = pd.read_csv('cyberbullying_tweets.csv')"
      ],
      "metadata": {
        "id": "nMKjx_KypQ85"
      },
      "execution_count": 71,
      "outputs": []
    },
    {
      "cell_type": "code",
      "source": [
        "cybd.info()"
      ],
      "metadata": {
        "colab": {
          "base_uri": "https://localhost:8080/"
        },
        "id": "bLPxQn4xb1jm",
        "outputId": "7c18aaee-7e4a-4a69-eae3-a4f9fc4ca51b"
      },
      "execution_count": 11,
      "outputs": [
        {
          "output_type": "stream",
          "name": "stdout",
          "text": [
            "<class 'pandas.core.frame.DataFrame'>\n",
            "RangeIndex: 47692 entries, 0 to 47691\n",
            "Data columns (total 2 columns):\n",
            " #   Column              Non-Null Count  Dtype \n",
            "---  ------              --------------  ----- \n",
            " 0   tweet_text          47692 non-null  object\n",
            " 1   cyberbullying_type  47692 non-null  object\n",
            "dtypes: object(2)\n",
            "memory usage: 745.3+ KB\n"
          ]
        }
      ]
    },
    {
      "cell_type": "code",
      "source": [
        "cybd.head()"
      ],
      "metadata": {
        "colab": {
          "base_uri": "https://localhost:8080/",
          "height": 206
        },
        "id": "zNrzGPkJb4dN",
        "outputId": "51b0d496-d694-44cc-a958-10979a2279a0"
      },
      "execution_count": 12,
      "outputs": [
        {
          "output_type": "execute_result",
          "data": {
            "text/plain": [
              "                                          tweet_text cyberbullying_type\n",
              "0  In other words #katandandre, your food was cra...  not_cyberbullying\n",
              "1  Why is #aussietv so white? #MKR #theblock #ImA...  not_cyberbullying\n",
              "2  @XochitlSuckkks a classy whore? Or more red ve...  not_cyberbullying\n",
              "3  @Jason_Gio meh. :P  thanks for the heads up, b...  not_cyberbullying\n",
              "4  @RudhoeEnglish This is an ISIS account pretend...  not_cyberbullying"
            ],
            "text/html": [
              "\n",
              "  <div id=\"df-6f11861a-7454-41ad-a1df-d2cb771f678f\">\n",
              "    <div class=\"colab-df-container\">\n",
              "      <div>\n",
              "<style scoped>\n",
              "    .dataframe tbody tr th:only-of-type {\n",
              "        vertical-align: middle;\n",
              "    }\n",
              "\n",
              "    .dataframe tbody tr th {\n",
              "        vertical-align: top;\n",
              "    }\n",
              "\n",
              "    .dataframe thead th {\n",
              "        text-align: right;\n",
              "    }\n",
              "</style>\n",
              "<table border=\"1\" class=\"dataframe\">\n",
              "  <thead>\n",
              "    <tr style=\"text-align: right;\">\n",
              "      <th></th>\n",
              "      <th>tweet_text</th>\n",
              "      <th>cyberbullying_type</th>\n",
              "    </tr>\n",
              "  </thead>\n",
              "  <tbody>\n",
              "    <tr>\n",
              "      <th>0</th>\n",
              "      <td>In other words #katandandre, your food was cra...</td>\n",
              "      <td>not_cyberbullying</td>\n",
              "    </tr>\n",
              "    <tr>\n",
              "      <th>1</th>\n",
              "      <td>Why is #aussietv so white? #MKR #theblock #ImA...</td>\n",
              "      <td>not_cyberbullying</td>\n",
              "    </tr>\n",
              "    <tr>\n",
              "      <th>2</th>\n",
              "      <td>@XochitlSuckkks a classy whore? Or more red ve...</td>\n",
              "      <td>not_cyberbullying</td>\n",
              "    </tr>\n",
              "    <tr>\n",
              "      <th>3</th>\n",
              "      <td>@Jason_Gio meh. :P  thanks for the heads up, b...</td>\n",
              "      <td>not_cyberbullying</td>\n",
              "    </tr>\n",
              "    <tr>\n",
              "      <th>4</th>\n",
              "      <td>@RudhoeEnglish This is an ISIS account pretend...</td>\n",
              "      <td>not_cyberbullying</td>\n",
              "    </tr>\n",
              "  </tbody>\n",
              "</table>\n",
              "</div>\n",
              "      <button class=\"colab-df-convert\" onclick=\"convertToInteractive('df-6f11861a-7454-41ad-a1df-d2cb771f678f')\"\n",
              "              title=\"Convert this dataframe to an interactive table.\"\n",
              "              style=\"display:none;\">\n",
              "        \n",
              "  <svg xmlns=\"http://www.w3.org/2000/svg\" height=\"24px\"viewBox=\"0 0 24 24\"\n",
              "       width=\"24px\">\n",
              "    <path d=\"M0 0h24v24H0V0z\" fill=\"none\"/>\n",
              "    <path d=\"M18.56 5.44l.94 2.06.94-2.06 2.06-.94-2.06-.94-.94-2.06-.94 2.06-2.06.94zm-11 1L8.5 8.5l.94-2.06 2.06-.94-2.06-.94L8.5 2.5l-.94 2.06-2.06.94zm10 10l.94 2.06.94-2.06 2.06-.94-2.06-.94-.94-2.06-.94 2.06-2.06.94z\"/><path d=\"M17.41 7.96l-1.37-1.37c-.4-.4-.92-.59-1.43-.59-.52 0-1.04.2-1.43.59L10.3 9.45l-7.72 7.72c-.78.78-.78 2.05 0 2.83L4 21.41c.39.39.9.59 1.41.59.51 0 1.02-.2 1.41-.59l7.78-7.78 2.81-2.81c.8-.78.8-2.07 0-2.86zM5.41 20L4 18.59l7.72-7.72 1.47 1.35L5.41 20z\"/>\n",
              "  </svg>\n",
              "      </button>\n",
              "      \n",
              "  <style>\n",
              "    .colab-df-container {\n",
              "      display:flex;\n",
              "      flex-wrap:wrap;\n",
              "      gap: 12px;\n",
              "    }\n",
              "\n",
              "    .colab-df-convert {\n",
              "      background-color: #E8F0FE;\n",
              "      border: none;\n",
              "      border-radius: 50%;\n",
              "      cursor: pointer;\n",
              "      display: none;\n",
              "      fill: #1967D2;\n",
              "      height: 32px;\n",
              "      padding: 0 0 0 0;\n",
              "      width: 32px;\n",
              "    }\n",
              "\n",
              "    .colab-df-convert:hover {\n",
              "      background-color: #E2EBFA;\n",
              "      box-shadow: 0px 1px 2px rgba(60, 64, 67, 0.3), 0px 1px 3px 1px rgba(60, 64, 67, 0.15);\n",
              "      fill: #174EA6;\n",
              "    }\n",
              "\n",
              "    [theme=dark] .colab-df-convert {\n",
              "      background-color: #3B4455;\n",
              "      fill: #D2E3FC;\n",
              "    }\n",
              "\n",
              "    [theme=dark] .colab-df-convert:hover {\n",
              "      background-color: #434B5C;\n",
              "      box-shadow: 0px 1px 3px 1px rgba(0, 0, 0, 0.15);\n",
              "      filter: drop-shadow(0px 1px 2px rgba(0, 0, 0, 0.3));\n",
              "      fill: #FFFFFF;\n",
              "    }\n",
              "  </style>\n",
              "\n",
              "      <script>\n",
              "        const buttonEl =\n",
              "          document.querySelector('#df-6f11861a-7454-41ad-a1df-d2cb771f678f button.colab-df-convert');\n",
              "        buttonEl.style.display =\n",
              "          google.colab.kernel.accessAllowed ? 'block' : 'none';\n",
              "\n",
              "        async function convertToInteractive(key) {\n",
              "          const element = document.querySelector('#df-6f11861a-7454-41ad-a1df-d2cb771f678f');\n",
              "          const dataTable =\n",
              "            await google.colab.kernel.invokeFunction('convertToInteractive',\n",
              "                                                     [key], {});\n",
              "          if (!dataTable) return;\n",
              "\n",
              "          const docLinkHtml = 'Like what you see? Visit the ' +\n",
              "            '<a target=\"_blank\" href=https://colab.research.google.com/notebooks/data_table.ipynb>data table notebook</a>'\n",
              "            + ' to learn more about interactive tables.';\n",
              "          element.innerHTML = '';\n",
              "          dataTable['output_type'] = 'display_data';\n",
              "          await google.colab.output.renderOutput(dataTable, element);\n",
              "          const docLink = document.createElement('div');\n",
              "          docLink.innerHTML = docLinkHtml;\n",
              "          element.appendChild(docLink);\n",
              "        }\n",
              "      </script>\n",
              "    </div>\n",
              "  </div>\n",
              "  "
            ]
          },
          "metadata": {},
          "execution_count": 12
        }
      ]
    },
    {
      "cell_type": "code",
      "source": [
        "cybd.shape"
      ],
      "metadata": {
        "colab": {
          "base_uri": "https://localhost:8080/"
        },
        "id": "Ze_3Y33M8QIX",
        "outputId": "61347e91-b6d2-4f2f-f243-6f1b52abd0e2"
      },
      "execution_count": 15,
      "outputs": [
        {
          "output_type": "execute_result",
          "data": {
            "text/plain": [
              "(47692, 2)"
            ]
          },
          "metadata": {},
          "execution_count": 15
        }
      ]
    },
    {
      "cell_type": "code",
      "source": [
        "cybd['cyberbullying_type'].value_counts()\n",
        "\n"
      ],
      "metadata": {
        "colab": {
          "base_uri": "https://localhost:8080/"
        },
        "id": "bTPVdsVyb93b",
        "outputId": "27446f11-742e-4a1e-a6a9-1f7177a9e2b0"
      },
      "execution_count": 13,
      "outputs": [
        {
          "output_type": "execute_result",
          "data": {
            "text/plain": [
              "religion               7998\n",
              "age                    7992\n",
              "gender                 7973\n",
              "ethnicity              7961\n",
              "not_cyberbullying      7945\n",
              "other_cyberbullying    7823\n",
              "Name: cyberbullying_type, dtype: int64"
            ]
          },
          "metadata": {},
          "execution_count": 13
        }
      ]
    },
    {
      "cell_type": "code",
      "source": [
        "plt.figure(figsize=[8, 10])\n",
        "cybd[\"cyberbullying_type\"].value_counts().plot(kind='pie', autopct='%1.0f%%')"
      ],
      "metadata": {
        "colab": {
          "base_uri": "https://localhost:8080/",
          "height": 673
        },
        "id": "eY4WkAmXcCy_",
        "outputId": "dd45ff4d-1359-4d4d-a037-fe334398ab18"
      },
      "execution_count": 94,
      "outputs": [
        {
          "output_type": "execute_result",
          "data": {
            "text/plain": [
              "<Axes: ylabel='cyberbullying_type'>"
            ]
          },
          "metadata": {},
          "execution_count": 94
        },
        {
          "output_type": "display_data",
          "data": {
            "text/plain": [
              "<Figure size 800x1000 with 1 Axes>"
            ],
            "image/png": "[encoded data removed]"
          },
          "metadata": {}
        }
      ]
    },
    {
      "cell_type": "code",
      "source": [
        "labels = cybd['cyberbullying_type'].values"
      ],
      "metadata": {
        "id": "Y-akr1bW8AsS"
      },
      "execution_count": 16,
      "outputs": []
    },
    {
      "cell_type": "code",
      "source": [
        "labels"
      ],
      "metadata": {
        "colab": {
          "base_uri": "https://localhost:8080/"
        },
        "id": "C1iEiCIK8fRK",
        "outputId": "123499c9-b62c-4756-da34-b7efc396c2a9"
      },
      "execution_count": 17,
      "outputs": [
        {
          "output_type": "execute_result",
          "data": {
            "text/plain": [
              "array(['not_cyberbullying', 'not_cyberbullying', 'not_cyberbullying', ...,\n",
              "       'ethnicity', 'ethnicity', 'ethnicity'], dtype=object)"
            ]
          },
          "metadata": {},
          "execution_count": 17
        }
      ]
    },
    {
      "cell_type": "code",
      "source": [
        "def clean_text(text):\n",
        "    # Remove HTML tags\n",
        "    text = re.sub('<.*?>', '', text)\n",
        "    \n",
        "    # Remove non-alphabetic characters and convert to lowercase\n",
        "    text = re.sub('[^a-zA-Z]', ' ', text).lower()\n",
        "    \n",
        "    # Remove URLs, mentions, and hashtags from the text\n",
        "    text = re.sub(r'http\\S+', '', text)\n",
        "    text = re.sub(r'@\\S+', '', text)\n",
        "    text = re.sub(r'#\\S+', '', text)\n",
        "    \n",
        "    # Tokenize the text\n",
        "    words = nltk.word_tokenize(text)\n",
        "    \n",
        "    # Remove stopwords\n",
        "    words = [w for w in words if w not in stopwords.words('english')]\n",
        "    \n",
        "    # Join the words back into a string\n",
        "    text = ' '.join(words)\n",
        "    return text"
      ],
      "metadata": {
        "id": "H_Am43yaAWhg"
      },
      "execution_count": 18,
      "outputs": []
    },
    {
      "cell_type": "code",
      "source": [
        "cybd['tweet_text'] = cybd['tweet_text'].apply(clean_text)"
      ],
      "metadata": {
        "id": "dWyuvC5qAhVb"
      },
      "execution_count": 26,
      "outputs": []
    },
    {
      "cell_type": "code",
      "source": [
        "le = LabelEncoder()\n",
        "cybd['cyberbullying_type'] = le.fit_transform(cybd['cyberbullying_type'])"
      ],
      "metadata": {
        "id": "ZoEjLptbAh18"
      },
      "execution_count": 27,
      "outputs": []
    },
    {
      "cell_type": "code",
      "source": [
        "cybd_train, cybd_test = train_test_split(cybd, test_size=0.2, random_state=42)\n",
        "x_train =cybd_train['tweet_text']\n",
        "y_train =cybd_train['cyberbullying_type']\n",
        "x_test = cybd_test['tweet_text']\n",
        "y_test = cybd_test['cyberbullying_type']"
      ],
      "metadata": {
        "id": "J1OhtIHlBleM"
      },
      "execution_count": 28,
      "outputs": []
    },
    {
      "cell_type": "code",
      "source": [
        "sent_lens=[]\n",
        "for sent in cybd['tweet_text']:\n",
        "    sent_lens.append(len(word_tokenize(sent)))      \n",
        "max(sent_lens)"
      ],
      "metadata": {
        "colab": {
          "base_uri": "https://localhost:8080/"
        },
        "id": "wRM-cHHjCD5F",
        "outputId": "0d8c42d0-990c-4939-b4e3-cdca66e60158"
      },
      "execution_count": 29,
      "outputs": [
        {
          "output_type": "execute_result",
          "data": {
            "text/plain": [
              "492"
            ]
          },
          "metadata": {},
          "execution_count": 29
        }
      ]
    },
    {
      "cell_type": "code",
      "source": [
        "np.quantile(sent_lens,0.95)"
      ],
      "metadata": {
        "colab": {
          "base_uri": "https://localhost:8080/"
        },
        "id": "Geoss4E_CHBF",
        "outputId": "d1650b97-ef7e-437f-e800-60a1fd3583d6"
      },
      "execution_count": 31,
      "outputs": [
        {
          "output_type": "execute_result",
          "data": {
            "text/plain": [
              "28.0"
            ]
          },
          "metadata": {},
          "execution_count": 31
        }
      ]
    },
    {
      "cell_type": "code",
      "source": [
        "max_len = 28"
      ],
      "metadata": {
        "id": "vtiDs077CKK7"
      },
      "execution_count": 33,
      "outputs": []
    },
    {
      "cell_type": "code",
      "source": [
        "tok = Tokenizer(char_level=False, split=' ')"
      ],
      "metadata": {
        "id": "UHsZsmxXCRBx"
      },
      "execution_count": 34,
      "outputs": []
    },
    {
      "cell_type": "code",
      "source": [
        "tok.fit_on_texts(x_train)"
      ],
      "metadata": {
        "id": "s79BS6TPCbgm"
      },
      "execution_count": 35,
      "outputs": []
    },
    {
      "cell_type": "code",
      "source": [
        "vocab_size = len(tok.index_word.keys())\n",
        "print(vocab_size)\n"
      ],
      "metadata": {
        "colab": {
          "base_uri": "https://localhost:8080/"
        },
        "id": "ev6JCDaaCb_N",
        "outputId": "2933da20-a407-47db-e3a2-06f4e29ca7fb"
      },
      "execution_count": 36,
      "outputs": [
        {
          "output_type": "stream",
          "name": "stdout",
          "text": [
            "50596\n"
          ]
        }
      ]
    },
    {
      "cell_type": "code",
      "source": [
        "twt = tok.texts_to_sequences(['Muslim'])\n",
        "print (twt)"
      ],
      "metadata": {
        "colab": {
          "base_uri": "https://localhost:8080/"
        },
        "id": "YKQ6CDHofCC3",
        "outputId": "e13bf03b-5ce6-487f-ddab-fd1c6e1b23a0"
      },
      "execution_count": 58,
      "outputs": [
        {
          "output_type": "stream",
          "name": "stdout",
          "text": [
            "[[25]]\n"
          ]
        }
      ]
    },
    {
      "cell_type": "code",
      "source": [
        "twt = tok.texts_to_sequences(['virus'])\n",
        "print (twt)"
      ],
      "metadata": {
        "colab": {
          "base_uri": "https://localhost:8080/"
        },
        "id": "GLtLUN2KfVVV",
        "outputId": "833efd0a-7064-4f91-ad79-dded981c3cc6"
      },
      "execution_count": 62,
      "outputs": [
        {
          "output_type": "stream",
          "name": "stdout",
          "text": [
            "[[1250]]\n"
          ]
        }
      ]
    },
    {
      "cell_type": "code",
      "source": [
        "twt = tok.texts_to_sequences(['girl'])\n",
        "print (twt)"
      ],
      "metadata": {
        "colab": {
          "base_uri": "https://localhost:8080/"
        },
        "id": "14cEDGCnfccj",
        "outputId": "2f98a04e-8220-42d4-f485-940dec918b85"
      },
      "execution_count": 60,
      "outputs": [
        {
          "output_type": "stream",
          "name": "stdout",
          "text": [
            "[[23]]\n"
          ]
        }
      ]
    },
    {
      "cell_type": "code",
      "source": [
        "# Convert to numeric sequence\n",
        "sequences_train = tok.texts_to_sequences(x_train)\n",
        "# Pad sequences\n",
        "sequences_matrix_train = sequence.pad_sequences(sequences_train, maxlen = max_len)\n",
        "# Convert to numeric sequence\n",
        "sequences_test = tok.texts_to_sequences(x_test)\n",
        "# Pad sequences\n",
        "sequences_matrix_test = sequence.pad_sequences(sequences_test, maxlen = max_len)"
      ],
      "metadata": {
        "id": "RakziWyKCeiT"
      },
      "execution_count": 37,
      "outputs": []
    },
    {
      "cell_type": "code",
      "source": [
        "# Convert labels to categorical form\n",
        "y_train = to_categorical(y_train)\n",
        "y_test = to_categorical(y_test)"
      ],
      "metadata": {
        "id": "4_hdKc9bCjFR"
      },
      "execution_count": 38,
      "outputs": []
    },
    {
      "cell_type": "code",
      "source": [
        "def RNN():\n",
        "    inputs = Input(name='inputs', shape=[max_len])\n",
        "    \n",
        "    # This layer can only be used as the first layer in a model.\n",
        "    # Turns positive integers (index values) into dense vectors of fixed size.\n",
        "    # The model will take as input an integer matrix of size (batch, input_length) and the \n",
        "    # largest integer (i.e. word index) in the input should be not larger than vocabulary_size+1.  \n",
        "    # Now model's output_shape is (None, max_len, output_dim), where `None` is the batch dimension. \n",
        "    layer = Embedding(input_dim = vocab_size+1, output_dim = 500, input_length = max_len, mask_zero=True)(inputs)\n",
        " \n",
        "\n",
        "    layer = LSTM(64)(layer)   \n",
        "    layer = Dense(256, name='FC1')(layer)\n",
        "    layer = Activation('relu')(layer)\n",
        "    layer = Dropout(0.5)(layer)\n",
        "    layer = Dense(6, name='out_layer')(layer)\n",
        "    layer = Activation('softmax')(layer)\n",
        "    model = Model(inputs=inputs, outputs=layer)\n",
        "    return model"
      ],
      "metadata": {
        "id": "lmhi2qXaClvO"
      },
      "execution_count": 39,
      "outputs": []
    },
    {
      "cell_type": "code",
      "source": [
        "model = RNN()\n",
        "model.summary()"
      ],
      "metadata": {
        "colab": {
          "base_uri": "https://localhost:8080/"
        },
        "id": "rpA9ukjrHZNW",
        "outputId": "50750649-5e89-4116-c97c-7ac976859761"
      },
      "execution_count": 40,
      "outputs": [
        {
          "output_type": "stream",
          "name": "stdout",
          "text": [
            "Model: \"model\"\n",
            "_________________________________________________________________\n",
            " Layer (type)                Output Shape              Param #   \n",
            "=================================================================\n",
            " inputs (InputLayer)         [(None, 28)]              0         \n",
            "                                                                 \n",
            " embedding (Embedding)       (None, 28, 500)           25298500  \n",
            "                                                                 \n",
            " lstm (LSTM)                 (None, 64)                144640    \n",
            "                                                                 \n",
            " FC1 (Dense)                 (None, 256)               16640     \n",
            "                                                                 \n",
            " activation (Activation)     (None, 256)               0         \n",
            "                                                                 \n",
            " dropout (Dropout)           (None, 256)               0         \n",
            "                                                                 \n",
            " out_layer (Dense)           (None, 6)                 1542      \n",
            "                                                                 \n",
            " activation_1 (Activation)   (None, 6)                 0         \n",
            "                                                                 \n",
            "=================================================================\n",
            "Total params: 25,461,322\n",
            "Trainable params: 25,461,322\n",
            "Non-trainable params: 0\n",
            "_________________________________________________________________\n"
          ]
        }
      ]
    },
    {
      "cell_type": "code",
      "source": [
        "model.compile(loss='categorical_crossentropy', optimizer='adam', metrics=['accuracy'])"
      ],
      "metadata": {
        "id": "cCJmsiayHZ7Q"
      },
      "execution_count": 41,
      "outputs": []
    },
    {
      "cell_type": "code",
      "source": [
        "model.fit(sequences_matrix_train, y_train, batch_size=100,epochs=12, \n",
        "        validation_data = (sequences_matrix_test, y_test))\n"
      ],
      "metadata": {
        "colab": {
          "base_uri": "https://localhost:8080/"
        },
        "id": "z--Wa_-pHiz3",
        "outputId": "3e507f3c-c8b4-4a00-890d-698ffcf4ed05"
      },
      "execution_count": 43,
      "outputs": [
        {
          "output_type": "stream",
          "name": "stdout",
          "text": [
            "Epoch 1/12\n",
            "382/382 [==============================] - 252s 660ms/step - loss: 0.2264 - accuracy: 0.9112 - val_loss: 0.4599 - val_accuracy: 0.8326\n",
            "Epoch 2/12\n",
            "382/382 [==============================] - 249s 651ms/step - loss: 0.1407 - accuracy: 0.9416 - val_loss: 0.5678 - val_accuracy: 0.8179\n",
            "Epoch 3/12\n",
            "382/382 [==============================] - 248s 649ms/step - loss: 0.1002 - accuracy: 0.9522 - val_loss: 0.7084 - val_accuracy: 0.8177\n",
            "Epoch 4/12\n",
            "382/382 [==============================] - 249s 652ms/step - loss: 0.0820 - accuracy: 0.9562 - val_loss: 0.8382 - val_accuracy: 0.8038\n",
            "Epoch 5/12\n",
            "382/382 [==============================] - 248s 649ms/step - loss: 0.0715 - accuracy: 0.9609 - val_loss: 0.9877 - val_accuracy: 0.8087\n",
            "Epoch 6/12\n",
            "382/382 [==============================] - 251s 656ms/step - loss: 0.0644 - accuracy: 0.9628 - val_loss: 1.0842 - val_accuracy: 0.8077\n",
            "Epoch 7/12\n",
            "382/382 [==============================] - 251s 656ms/step - loss: 0.0609 - accuracy: 0.9639 - val_loss: 1.0871 - val_accuracy: 0.8029\n",
            "Epoch 8/12\n",
            "382/382 [==============================] - 250s 654ms/step - loss: 0.0595 - accuracy: 0.9640 - val_loss: 1.1942 - val_accuracy: 0.8009\n",
            "Epoch 9/12\n",
            "382/382 [==============================] - 251s 658ms/step - loss: 0.0561 - accuracy: 0.9654 - val_loss: 1.2863 - val_accuracy: 0.8031\n",
            "Epoch 10/12\n",
            "382/382 [==============================] - 252s 660ms/step - loss: 0.0602 - accuracy: 0.9638 - val_loss: 1.2114 - val_accuracy: 0.7998\n",
            "Epoch 11/12\n",
            "382/382 [==============================] - 252s 659ms/step - loss: 0.0548 - accuracy: 0.9678 - val_loss: 1.3000 - val_accuracy: 0.7908\n",
            "Epoch 12/12\n",
            "382/382 [==============================] - 251s 656ms/step - loss: 0.0494 - accuracy: 0.9674 - val_loss: 1.4180 - val_accuracy: 0.8007\n"
          ]
        },
        {
          "output_type": "execute_result",
          "data": {
            "text/plain": [
              "<keras.callbacks.History at 0x7f608737b3d0>"
            ]
          },
          "metadata": {},
          "execution_count": 43
        }
      ]
    },
    {
      "cell_type": "code",
      "source": [
        "from sklearn.metrics import roc_auc_score\n",
        "predictions = model.predict(sequences_matrix_test)\n",
        "roc_auc_score(y_test,predictions)"
      ],
      "metadata": {
        "colab": {
          "base_uri": "https://localhost:8080/"
        },
        "id": "LWaVSlt1gAdH",
        "outputId": "1a25ae57-adaf-4083-995b-5825d272d0b1"
      },
      "execution_count": 64,
      "outputs": [
        {
          "output_type": "stream",
          "name": "stdout",
          "text": [
            "299/299 [==============================] - 6s 19ms/step\n"
          ]
        },
        {
          "output_type": "execute_result",
          "data": {
            "text/plain": [
              "0.9456412358075191"
            ]
          },
          "metadata": {},
          "execution_count": 64
        }
      ]
    },
    {
      "cell_type": "code",
      "source": [
        "index=99 \n",
        "review = sequences_test[index]\n",
        "review_words =[]\n",
        "for k in review:\n",
        " review_words.append((tok.index_word[k]))\n",
        "review_words  "
      ],
      "metadata": {
        "colab": {
          "base_uri": "https://localhost:8080/"
        },
        "id": "tC0fSOXqHlix",
        "outputId": "a23dde6c-8bb5-4195-ab73-150fb53fa4ef"
      },
      "execution_count": 61,
      "outputs": [
        {
          "output_type": "execute_result",
          "data": {
            "text/plain": [
              "['racists',\n",
              " 'idiots',\n",
              " 'believe',\n",
              " 'please',\n",
              " 'ask',\n",
              " 'muslim',\n",
              " 'go',\n",
              " 'mosque',\n",
              " 'mosques',\n",
              " 'probably',\n",
              " 'one',\n",
              " 'guidelines',\n",
              " 'virus',\n",
              " 'country',\n",
              " 'enter',\n",
              " 'criteria']"
            ]
          },
          "metadata": {},
          "execution_count": 61
        }
      ]
    },
    {
      "cell_type": "code",
      "source": [
        "pred = model.predict(sequences_matrix_test[index].reshape(1,28))\n",
        "print(labels[np.argmax(pred)])"
      ],
      "metadata": {
        "colab": {
          "base_uri": "https://localhost:8080/"
        },
        "id": "aSmbbiUSH_sv",
        "outputId": "328073bf-9c4e-459f-9b5f-0845262423a7"
      },
      "execution_count": 104,
      "outputs": [
        {
          "output_type": "stream",
          "name": "stdout",
          "text": [
            "1/1 [==============================] - 0s 37ms/step\n",
            "not_cyberbullying\n"
          ]
        }
      ]
    },
    {
      "cell_type": "code",
      "source": [
        "labels[np.argmax(y_test[index])]"
      ],
      "metadata": {
        "colab": {
          "base_uri": "https://localhost:8080/",
          "height": 36
        },
        "id": "NJGpcZJTIAVI",
        "outputId": "5ef019fd-31b6-44b9-f82b-00e229c126c5"
      },
      "execution_count": 49,
      "outputs": [
        {
          "output_type": "execute_result",
          "data": {
            "text/plain": [
              "'not_cyberbullying'"
            ],
            "application/vnd.google.colaboratory.intrinsic+json": {
              "type": "string"
            }
          },
          "metadata": {},
          "execution_count": 49
        }
      ]
    },
    {
      "cell_type": "markdown",
      "source": [
        "##QUESTION 2 : FINANCIAL SENTIMENT ANALYSIS"
      ],
      "metadata": {
        "id": "JJrZkkkIh8X_"
      }
    },
    {
      "cell_type": "markdown",
      "source": [
        "####**Problem Statement :**\n",
        "####Create a multiclassification model to analyze and predict sentiments of texts/ comments related to finance.\n"
      ],
      "metadata": {
        "id": "rKLuyvzazQU8"
      }
    },
    {
      "cell_type": "markdown",
      "source": [
        "####**Data Set :** \n",
        "####The following data is intended for advancing financial sentiment analysis research. It's two datasets (FiQA, Financial PhraseBank) combined into one easy-to-use CSV file. It provides financial sentences with sentiment labels:\n",
        "\n",
        "*   Positive\n",
        "*   Negative\n",
        "\n",
        "*   Neutral\n",
        "\n",
        "####**Link to dataset :** https://www.kaggle.com/datasets/sbhatti/financial-sentiment-analysis\n"
      ],
      "metadata": {
        "id": "fZVpa9x_xlmP"
      }
    },
    {
      "cell_type": "code",
      "source": [
        "from tensorflow.keras.preprocessing.sequence import pad_sequences\n",
        "from keras.models import Sequential\n",
        "from tensorflow.keras.layers import Bidirectional"
      ],
      "metadata": {
        "id": "2B81gcDgpHNu"
      },
      "execution_count": 105,
      "outputs": []
    },
    {
      "cell_type": "code",
      "source": [
        "!kaggle datasets download -d sbhatti/financial-sentiment-analysis"
      ],
      "metadata": {
        "colab": {
          "base_uri": "https://localhost:8080/"
        },
        "id": "CtkB5N_niFmF",
        "outputId": "312c760e-825b-4aa8-9e30-415131ae67cc"
      },
      "execution_count": 68,
      "outputs": [
        {
          "output_type": "stream",
          "name": "stdout",
          "text": [
            "Warning: Your Kaggle API key is readable by other users on this system! To fix this, you can run 'chmod 600 /root/.kaggle/kaggle.json'\n",
            "Downloading financial-sentiment-analysis.zip to /content\n",
            "  0% 0.00/276k [00:00<?, ?B/s]\n",
            "100% 276k/276k [00:00<00:00, 65.9MB/s]\n"
          ]
        }
      ]
    },
    {
      "cell_type": "code",
      "source": [
        "import zipfile\n",
        "zip_ref = zipfile.ZipFile('/content/financial-sentiment-analysis.zip', 'r')\n",
        "zip_ref.extractall('/content')\n",
        "zip_ref.close()"
      ],
      "metadata": {
        "id": "R3uiCQxgi7Qc"
      },
      "execution_count": 69,
      "outputs": []
    },
    {
      "cell_type": "code",
      "source": [
        "fsa = pd.read_csv('data.csv')"
      ],
      "metadata": {
        "id": "dRDVq_qsjFWu"
      },
      "execution_count": 75,
      "outputs": []
    },
    {
      "cell_type": "code",
      "source": [
        "fsa.info()"
      ],
      "metadata": {
        "colab": {
          "base_uri": "https://localhost:8080/"
        },
        "id": "taSUlrzqj8BH",
        "outputId": "8a97660a-6f5f-40c7-8b35-dba28d67ec43"
      },
      "execution_count": 76,
      "outputs": [
        {
          "output_type": "stream",
          "name": "stdout",
          "text": [
            "<class 'pandas.core.frame.DataFrame'>\n",
            "RangeIndex: 5842 entries, 0 to 5841\n",
            "Data columns (total 2 columns):\n",
            " #   Column     Non-Null Count  Dtype \n",
            "---  ------     --------------  ----- \n",
            " 0   Sentence   5842 non-null   object\n",
            " 1   Sentiment  5842 non-null   object\n",
            "dtypes: object(2)\n",
            "memory usage: 91.4+ KB\n"
          ]
        }
      ]
    },
    {
      "cell_type": "code",
      "source": [
        "fsa.head()"
      ],
      "metadata": {
        "colab": {
          "base_uri": "https://localhost:8080/",
          "height": 206
        },
        "id": "xOoGwwFkkUa7",
        "outputId": "83f21181-df30-4735-eb33-9bdb53599e75"
      },
      "execution_count": 77,
      "outputs": [
        {
          "output_type": "execute_result",
          "data": {
            "text/plain": [
              "                                            Sentence Sentiment\n",
              "0  The GeoSolutions technology will leverage Bene...  positive\n",
              "1  $ESI on lows, down $1.50 to $2.50 BK a real po...  negative\n",
              "2  For the last quarter of 2010 , Componenta 's n...  positive\n",
              "3  According to the Finnish-Russian Chamber of Co...   neutral\n",
              "4  The Swedish buyout firm has sold its remaining...   neutral"
            ],
            "text/html": [
              "\n",
              "  <div id=\"df-e18735ad-df67-4641-8c94-d930e10b7640\">\n",
              "    <div class=\"colab-df-container\">\n",
              "      <div>\n",
              "<style scoped>\n",
              "    .dataframe tbody tr th:only-of-type {\n",
              "        vertical-align: middle;\n",
              "    }\n",
              "\n",
              "    .dataframe tbody tr th {\n",
              "        vertical-align: top;\n",
              "    }\n",
              "\n",
              "    .dataframe thead th {\n",
              "        text-align: right;\n",
              "    }\n",
              "</style>\n",
              "<table border=\"1\" class=\"dataframe\">\n",
              "  <thead>\n",
              "    <tr style=\"text-align: right;\">\n",
              "      <th></th>\n",
              "      <th>Sentence</th>\n",
              "      <th>Sentiment</th>\n",
              "    </tr>\n",
              "  </thead>\n",
              "  <tbody>\n",
              "    <tr>\n",
              "      <th>0</th>\n",
              "      <td>The GeoSolutions technology will leverage Bene...</td>\n",
              "      <td>positive</td>\n",
              "    </tr>\n",
              "    <tr>\n",
              "      <th>1</th>\n",
              "      <td>$ESI on lows, down $1.50 to $2.50 BK a real po...</td>\n",
              "      <td>negative</td>\n",
              "    </tr>\n",
              "    <tr>\n",
              "      <th>2</th>\n",
              "      <td>For the last quarter of 2010 , Componenta 's n...</td>\n",
              "      <td>positive</td>\n",
              "    </tr>\n",
              "    <tr>\n",
              "      <th>3</th>\n",
              "      <td>According to the Finnish-Russian Chamber of Co...</td>\n",
              "      <td>neutral</td>\n",
              "    </tr>\n",
              "    <tr>\n",
              "      <th>4</th>\n",
              "      <td>The Swedish buyout firm has sold its remaining...</td>\n",
              "      <td>neutral</td>\n",
              "    </tr>\n",
              "  </tbody>\n",
              "</table>\n",
              "</div>\n",
              "      <button class=\"colab-df-convert\" onclick=\"convertToInteractive('df-e18735ad-df67-4641-8c94-d930e10b7640')\"\n",
              "              title=\"Convert this dataframe to an interactive table.\"\n",
              "              style=\"display:none;\">\n",
              "        \n",
              "  <svg xmlns=\"http://www.w3.org/2000/svg\" height=\"24px\"viewBox=\"0 0 24 24\"\n",
              "       width=\"24px\">\n",
              "    <path d=\"M0 0h24v24H0V0z\" fill=\"none\"/>\n",
              "    <path d=\"M18.56 5.44l.94 2.06.94-2.06 2.06-.94-2.06-.94-.94-2.06-.94 2.06-2.06.94zm-11 1L8.5 8.5l.94-2.06 2.06-.94-2.06-.94L8.5 2.5l-.94 2.06-2.06.94zm10 10l.94 2.06.94-2.06 2.06-.94-2.06-.94-.94-2.06-.94 2.06-2.06.94z\"/><path d=\"M17.41 7.96l-1.37-1.37c-.4-.4-.92-.59-1.43-.59-.52 0-1.04.2-1.43.59L10.3 9.45l-7.72 7.72c-.78.78-.78 2.05 0 2.83L4 21.41c.39.39.9.59 1.41.59.51 0 1.02-.2 1.41-.59l7.78-7.78 2.81-2.81c.8-.78.8-2.07 0-2.86zM5.41 20L4 18.59l7.72-7.72 1.47 1.35L5.41 20z\"/>\n",
              "  </svg>\n",
              "      </button>\n",
              "      \n",
              "  <style>\n",
              "    .colab-df-container {\n",
              "      display:flex;\n",
              "      flex-wrap:wrap;\n",
              "      gap: 12px;\n",
              "    }\n",
              "\n",
              "    .colab-df-convert {\n",
              "      background-color: #E8F0FE;\n",
              "      border: none;\n",
              "      border-radius: 50%;\n",
              "      cursor: pointer;\n",
              "      display: none;\n",
              "      fill: #1967D2;\n",
              "      height: 32px;\n",
              "      padding: 0 0 0 0;\n",
              "      width: 32px;\n",
              "    }\n",
              "\n",
              "    .colab-df-convert:hover {\n",
              "      background-color: #E2EBFA;\n",
              "      box-shadow: 0px 1px 2px rgba(60, 64, 67, 0.3), 0px 1px 3px 1px rgba(60, 64, 67, 0.15);\n",
              "      fill: #174EA6;\n",
              "    }\n",
              "\n",
              "    [theme=dark] .colab-df-convert {\n",
              "      background-color: #3B4455;\n",
              "      fill: #D2E3FC;\n",
              "    }\n",
              "\n",
              "    [theme=dark] .colab-df-convert:hover {\n",
              "      background-color: #434B5C;\n",
              "      box-shadow: 0px 1px 3px 1px rgba(0, 0, 0, 0.15);\n",
              "      filter: drop-shadow(0px 1px 2px rgba(0, 0, 0, 0.3));\n",
              "      fill: #FFFFFF;\n",
              "    }\n",
              "  </style>\n",
              "\n",
              "      <script>\n",
              "        const buttonEl =\n",
              "          document.querySelector('#df-e18735ad-df67-4641-8c94-d930e10b7640 button.colab-df-convert');\n",
              "        buttonEl.style.display =\n",
              "          google.colab.kernel.accessAllowed ? 'block' : 'none';\n",
              "\n",
              "        async function convertToInteractive(key) {\n",
              "          const element = document.querySelector('#df-e18735ad-df67-4641-8c94-d930e10b7640');\n",
              "          const dataTable =\n",
              "            await google.colab.kernel.invokeFunction('convertToInteractive',\n",
              "                                                     [key], {});\n",
              "          if (!dataTable) return;\n",
              "\n",
              "          const docLinkHtml = 'Like what you see? Visit the ' +\n",
              "            '<a target=\"_blank\" href=https://colab.research.google.com/notebooks/data_table.ipynb>data table notebook</a>'\n",
              "            + ' to learn more about interactive tables.';\n",
              "          element.innerHTML = '';\n",
              "          dataTable['output_type'] = 'display_data';\n",
              "          await google.colab.output.renderOutput(dataTable, element);\n",
              "          const docLink = document.createElement('div');\n",
              "          docLink.innerHTML = docLinkHtml;\n",
              "          element.appendChild(docLink);\n",
              "        }\n",
              "      </script>\n",
              "    </div>\n",
              "  </div>\n",
              "  "
            ]
          },
          "metadata": {},
          "execution_count": 77
        }
      ]
    },
    {
      "cell_type": "code",
      "source": [
        "fsa.shape"
      ],
      "metadata": {
        "colab": {
          "base_uri": "https://localhost:8080/"
        },
        "id": "_EsBV_31kXpq",
        "outputId": "5542eb37-903e-4d18-e150-a25494770f21"
      },
      "execution_count": 78,
      "outputs": [
        {
          "output_type": "execute_result",
          "data": {
            "text/plain": [
              "(5842, 2)"
            ]
          },
          "metadata": {},
          "execution_count": 78
        }
      ]
    },
    {
      "cell_type": "code",
      "source": [
        "fsa['Sentiment'].value_counts()"
      ],
      "metadata": {
        "colab": {
          "base_uri": "https://localhost:8080/"
        },
        "id": "VS6Plgw0kZPY",
        "outputId": "279bb665-87d8-440a-a541-fae012480610"
      },
      "execution_count": 79,
      "outputs": [
        {
          "output_type": "execute_result",
          "data": {
            "text/plain": [
              "neutral     3130\n",
              "positive    1852\n",
              "negative     860\n",
              "Name: Sentiment, dtype: int64"
            ]
          },
          "metadata": {},
          "execution_count": 79
        }
      ]
    },
    {
      "cell_type": "code",
      "source": [
        "plt.figure(figsize=[8, 10])\n",
        "fsa[\"Sentiment\"].value_counts().plot(kind='pie', autopct='%1.0f%%')"
      ],
      "metadata": {
        "colab": {
          "base_uri": "https://localhost:8080/",
          "height": 673
        },
        "id": "_Qx3eWBolKfe",
        "outputId": "84aabde0-eb14-47a2-dc54-09b239975bcd"
      },
      "execution_count": 95,
      "outputs": [
        {
          "output_type": "execute_result",
          "data": {
            "text/plain": [
              "<Axes: ylabel='Sentiment'>"
            ]
          },
          "metadata": {},
          "execution_count": 95
        },
        {
          "output_type": "display_data",
          "data": {
            "text/plain": [
              "<Figure size 800x1000 with 1 Axes>"
            ],
            "image/png": "[encoded data removed]"
          },
          "metadata": {}
        }
      ]
    },
    {
      "cell_type": "code",
      "source": [
        "labels2 = fsa['Sentiment'].values\n",
        "labels2"
      ],
      "metadata": {
        "colab": {
          "base_uri": "https://localhost:8080/"
        },
        "id": "_I96Ll-nlpoP",
        "outputId": "68fa3a5c-24f9-46df-d9cb-d413f9b93506"
      },
      "execution_count": 83,
      "outputs": [
        {
          "output_type": "execute_result",
          "data": {
            "text/plain": [
              "array(['positive', 'negative', 'positive', ..., 'neutral', 'neutral',\n",
              "       'positive'], dtype=object)"
            ]
          },
          "metadata": {},
          "execution_count": 83
        }
      ]
    },
    {
      "cell_type": "code",
      "source": [
        "def clean_text2(text2):\n",
        "    # Remove HTML tags\n",
        "    text2 = re.sub('<.*?>', '', text2)\n",
        "    \n",
        "    # Remove non-alphabetic characters and convert to lowercase\n",
        "    text2 = re.sub('[^a-zA-Z]', ' ', text2).lower()\n",
        "    \n",
        "    # Remove URLs, mentions, and hashtags from the text\n",
        "    text2 = re.sub(r'http\\S+', '', text2)\n",
        "    text2 = re.sub(r'@\\S+', '', text2)\n",
        "    text2 = re.sub(r'#\\S+', '', text2)\n",
        "    \n",
        "    # Tokenize the text\n",
        "    words2 = nltk.word_tokenize(text2)\n",
        "    \n",
        "    # Remove stopwords\n",
        "    words2 = [w for w in words2 if w not in stopwords.words('english')]\n",
        "    \n",
        "    # Join the words back into a string\n",
        "    text2 = ' '.join(words2)\n",
        "    return text2"
      ],
      "metadata": {
        "id": "BshsoVJKmBtU"
      },
      "execution_count": 90,
      "outputs": []
    },
    {
      "cell_type": "code",
      "source": [
        "fsa['Sentence'] = fsa['Sentence'].apply(clean_text2)"
      ],
      "metadata": {
        "id": "k3hFd1dzmCSx"
      },
      "execution_count": 91,
      "outputs": []
    },
    {
      "cell_type": "code",
      "source": [
        "le2 = LabelEncoder()\n",
        "fsa['Sentiment'] = le2.fit_transform(fsa['Sentiment'])"
      ],
      "metadata": {
        "id": "qbYYD4Y_mG1B"
      },
      "execution_count": 92,
      "outputs": []
    },
    {
      "cell_type": "code",
      "source": [
        "y = to_categorical(fsa['Sentiment'])\n",
        "x = fsa['Sentence']\n",
        "X_train2,X_test2, y_train2,y_test2 = train_test_split(x,y,test_size=0.3,stratify=y,random_state=42)"
      ],
      "metadata": {
        "id": "r9egHSxTnStX"
      },
      "execution_count": 96,
      "outputs": []
    },
    {
      "cell_type": "code",
      "source": [
        "num_words = 12000 \n",
        "tokenizer=Tokenizer(num_words,lower=True)\n",
        "fsa_total = pd.concat([pd.Series(X_train2), pd.Series(X_test2)], axis = 0)\n",
        "tokenizer.fit_on_texts(fsa_total)"
      ],
      "metadata": {
        "id": "wq92yoJUoSgB"
      },
      "execution_count": 97,
      "outputs": []
    },
    {
      "cell_type": "code",
      "source": [
        "X_train_ =tokenizer.texts_to_sequences(X_train2)\n",
        "X_train_pad=pad_sequences(X_train_,maxlen=81,padding='post')\n",
        "X_test_ = tokenizer.texts_to_sequences(X_test2)\n",
        "X_test_pad = pad_sequences(X_test_, maxlen = 81, padding = 'post')"
      ],
      "metadata": {
        "id": "zztVEYW9orCg"
      },
      "execution_count": 99,
      "outputs": []
    },
    {
      "cell_type": "code",
      "source": [
        "lstm = Sequential()\n",
        "lstm.add(Embedding(input_dim = num_words,\n",
        "                          output_dim = 100,\n",
        "                          input_length= X_train_pad.shape[1]))\n",
        "lstm.add(Dropout(0.2))\n",
        "lstm.add(Bidirectional(LSTM(128,return_sequences=True)))\n",
        "lstm.add(Dropout(0.2))\n",
        "lstm.add(Bidirectional(LSTM(256,return_sequences=True)))\n",
        "lstm.add(Dropout(0.2))\n",
        "lstm.add(Bidirectional(LSTM(128,return_sequences=False)))\n",
        "lstm.add(Dense(64,activation='tanh'))\n",
        "lstm.add(Dense(32,activation='tanh'))\n",
        "lstm.add(Dense(10,activation='tanh'))\n",
        "lstm.add(Dense(3,activation='softmax'))"
      ],
      "metadata": {
        "id": "p7xU88pBpMr_"
      },
      "execution_count": 107,
      "outputs": []
    },
    {
      "cell_type": "code",
      "source": [
        "lstm.compile(optimizer='adam',loss='categorical_crossentropy',metrics=['accuracy'])"
      ],
      "metadata": {
        "id": "l98YHXtvrags"
      },
      "execution_count": 108,
      "outputs": []
    },
    {
      "cell_type": "code",
      "source": [
        "lstm.summary()"
      ],
      "metadata": {
        "colab": {
          "base_uri": "https://localhost:8080/"
        },
        "id": "jic6kp0jrb3R",
        "outputId": "2a490b46-645b-4930-9348-27206109289f"
      },
      "execution_count": 109,
      "outputs": [
        {
          "output_type": "stream",
          "name": "stdout",
          "text": [
            "Model: \"sequential_3\"\n",
            "_________________________________________________________________\n",
            " Layer (type)                Output Shape              Param #   \n",
            "=================================================================\n",
            " embedding_4 (Embedding)     (None, 81, 100)           1200000   \n",
            "                                                                 \n",
            " dropout_8 (Dropout)         (None, 81, 100)           0         \n",
            "                                                                 \n",
            " bidirectional_6 (Bidirectio  (None, 81, 256)          234496    \n",
            " nal)                                                            \n",
            "                                                                 \n",
            " dropout_9 (Dropout)         (None, 81, 256)           0         \n",
            "                                                                 \n",
            " bidirectional_7 (Bidirectio  (None, 81, 512)          1050624   \n",
            " nal)                                                            \n",
            "                                                                 \n",
            " dropout_10 (Dropout)        (None, 81, 512)           0         \n",
            "                                                                 \n",
            " bidirectional_8 (Bidirectio  (None, 256)              656384    \n",
            " nal)                                                            \n",
            "                                                                 \n",
            " dense_8 (Dense)             (None, 64)                16448     \n",
            "                                                                 \n",
            " dense_9 (Dense)             (None, 32)                2080      \n",
            "                                                                 \n",
            " dense_10 (Dense)            (None, 10)                330       \n",
            "                                                                 \n",
            " dense_11 (Dense)            (None, 3)                 33        \n",
            "                                                                 \n",
            "=================================================================\n",
            "Total params: 3,160,395\n",
            "Trainable params: 3,160,395\n",
            "Non-trainable params: 0\n",
            "_________________________________________________________________\n"
          ]
        }
      ]
    },
    {
      "cell_type": "code",
      "source": [
        "lstm_history = lstm.fit(X_train_pad,y_train2, epochs = 10, batch_size = 64, validation_data=(X_test_pad, y_test2),verbose = 1)"
      ],
      "metadata": {
        "colab": {
          "base_uri": "https://localhost:8080/"
        },
        "id": "JZWBom5xreFC",
        "outputId": "20b6b38b-8e8e-4d80-a332-d765b6f02456"
      },
      "execution_count": 111,
      "outputs": [
        {
          "output_type": "stream",
          "name": "stdout",
          "text": [
            "Epoch 1/10\n",
            "64/64 [==============================] - 180s 3s/step - loss: 0.9318 - accuracy: 0.5679 - val_loss: 0.8374 - val_accuracy: 0.6463\n",
            "Epoch 2/10\n",
            "64/64 [==============================] - 170s 3s/step - loss: 0.6787 - accuracy: 0.7281 - val_loss: 0.7759 - val_accuracy: 0.6794\n",
            "Epoch 3/10\n",
            "64/64 [==============================] - 166s 3s/step - loss: 0.4203 - accuracy: 0.8403 - val_loss: 0.7871 - val_accuracy: 0.6783\n",
            "Epoch 4/10\n",
            "64/64 [==============================] - 192s 3s/step - loss: 0.2833 - accuracy: 0.8826 - val_loss: 0.8768 - val_accuracy: 0.6726\n",
            "Epoch 5/10\n",
            "64/64 [==============================] - 172s 3s/step - loss: 0.2279 - accuracy: 0.8995 - val_loss: 0.9917 - val_accuracy: 0.6640\n",
            "Epoch 6/10\n",
            "64/64 [==============================] - 178s 3s/step - loss: 0.2018 - accuracy: 0.9073 - val_loss: 1.0220 - val_accuracy: 0.6458\n",
            "Epoch 7/10\n",
            "64/64 [==============================] - 178s 3s/step - loss: 0.1941 - accuracy: 0.9080 - val_loss: 1.1069 - val_accuracy: 0.6515\n",
            "Epoch 8/10\n",
            "64/64 [==============================] - 157s 2s/step - loss: 0.1701 - accuracy: 0.9161 - val_loss: 1.1375 - val_accuracy: 0.6395\n",
            "Epoch 9/10\n",
            "64/64 [==============================] - 166s 3s/step - loss: 0.1557 - accuracy: 0.9198 - val_loss: 1.2502 - val_accuracy: 0.6623\n",
            "Epoch 10/10\n",
            "64/64 [==============================] - 163s 3s/step - loss: 0.1438 - accuracy: 0.9222 - val_loss: 1.3241 - val_accuracy: 0.6458\n"
          ]
        }
      ]
    },
    {
      "cell_type": "code",
      "source": [
        "index=90"
      ],
      "metadata": {
        "id": "WEPu4Sn90GoG"
      },
      "execution_count": 114,
      "outputs": []
    },
    {
      "cell_type": "code",
      "source": [
        "X_test_[index]\n"
      ],
      "metadata": {
        "colab": {
          "base_uri": "https://localhost:8080/"
        },
        "id": "sByJc37K0KXy",
        "outputId": "e3148ca4-3428-4b97-f22d-ff2b4d8d885d"
      },
      "execution_count": 115,
      "outputs": [
        {
          "output_type": "execute_result",
          "data": {
            "text/plain": [
              "[363, 3034, 356, 4864, 1974, 232]"
            ]
          },
          "metadata": {},
          "execution_count": 115
        }
      ]
    },
    {
      "cell_type": "code",
      "source": [
        "pred2 = lstm.predict(X_test_pad[index].reshape(1,81))\n",
        "print(labels2[np.argmax(pred2)])"
      ],
      "metadata": {
        "colab": {
          "base_uri": "https://localhost:8080/"
        },
        "id": "Fhzh0bgM0lMC",
        "outputId": "9ce9937c-6f40-43ca-c692-3dd03cf61b2b"
      },
      "execution_count": 117,
      "outputs": [
        {
          "output_type": "stream",
          "name": "stdout",
          "text": [
            "1/1 [==============================] - 0s 72ms/step\n",
            "positive\n"
          ]
        }
      ]
    },
    {
      "cell_type": "code",
      "source": [
        "labels2[np.argmax(y_test2[index])]"
      ],
      "metadata": {
        "colab": {
          "base_uri": "https://localhost:8080/",
          "height": 36
        },
        "id": "TgfwjF6F0l6f",
        "outputId": "32d88ad6-2113-46b9-ee99-d139a88fa62e"
      },
      "execution_count": 118,
      "outputs": [
        {
          "output_type": "execute_result",
          "data": {
            "text/plain": [
              "'positive'"
            ],
            "application/vnd.google.colaboratory.intrinsic+json": {
              "type": "string"
            }
          },
          "metadata": {},
          "execution_count": 118
        }
      ]
    }
  ]
}