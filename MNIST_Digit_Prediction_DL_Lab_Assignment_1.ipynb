{
  "nbformat": 4,
  "nbformat_minor": 0,
  "metadata": {
    "colab": {
      "provenance": []
    },
    "kernelspec": {
      "name": "python3",
      "display_name": "Python 3"
    },
    "language_info": {
      "name": "python"
    }
  },
  "cells": [
    {
      "cell_type": "markdown",
      "source": [
        "##PREDICTING DIGITS USING MNIST-DIGITS DATASET"
      ],
      "metadata": {
        "id": "mZe3opQE-rl2"
      }
    },
    {
      "cell_type": "markdown",
      "source": [
        "###Importing Necessary Libraries and the dataset\n",
        "\n"
      ],
      "metadata": {
        "id": "_1Ab6jXZbWS_"
      }
    },
    {
      "cell_type": "code",
      "source": [
        "import keras\n",
        "from keras.datasets import mnist\n",
        "\n",
        "import numpy as np\n",
        "import pandas as pd\n",
        "import matplotlib.pyplot as plt"
      ],
      "metadata": {
        "id": "ByKYbvFh-44S"
      },
      "execution_count": 81,
      "outputs": []
    },
    {
      "cell_type": "code",
      "source": [
        "from keras.models import Sequential\n",
        "from keras.layers import Dense\n",
        "\n"
      ],
      "metadata": {
        "id": "fd7XEi9g_GX8"
      },
      "execution_count": 82,
      "outputs": []
    },
    {
      "cell_type": "markdown",
      "source": [
        "### The data, split between train and test sets"
      ],
      "metadata": {
        "id": "IKLMz13-bfQg"
      }
    },
    {
      "cell_type": "code",
      "source": [
        "\n",
        "(X_train, y_train), (X_test, y_test) = mnist.load_data()\n",
        "\n",
        "num_classes = 10"
      ],
      "metadata": {
        "id": "r3Qf13c6_Ida"
      },
      "execution_count": 83,
      "outputs": []
    },
    {
      "cell_type": "markdown",
      "source": [
        "###Converting Images to 1-D Array"
      ],
      "metadata": {
        "id": "52VQH086cCno"
      }
    },
    {
      "cell_type": "code",
      "source": [
        "X_train = X_train.reshape(60000, 784)\n",
        "X_test = X_test.reshape(10000, 784)"
      ],
      "metadata": {
        "id": "6mdzrmrs_KtG"
      },
      "execution_count": 84,
      "outputs": []
    },
    {
      "cell_type": "markdown",
      "source": [
        "###Converting class vectors to Binary Class Matrices"
      ],
      "metadata": {
        "id": "rR6-GeEIcY3k"
      }
    },
    {
      "cell_type": "code",
      "source": [
        "X_train = X_train.astype('float32') / 255\n",
        "X_test = X_test.astype('float32') / 255"
      ],
      "metadata": {
        "id": "ra5ni1LI_OXY"
      },
      "execution_count": 85,
      "outputs": []
    },
    {
      "cell_type": "markdown",
      "source": [
        "###Converting class Labels to one-hot encoded arrays"
      ],
      "metadata": {
        "id": "FNyKPoLacgxA"
      }
    },
    {
      "cell_type": "code",
      "source": [
        "y_train = keras.utils.to_categorical(y_train, num_classes)\n",
        "y_test = keras.utils.to_categorical(y_test, num_classes)"
      ],
      "metadata": {
        "id": "8XQ0T_gm_PkD"
      },
      "execution_count": 86,
      "outputs": []
    },
    {
      "cell_type": "markdown",
      "source": [
        "###Building the model"
      ],
      "metadata": {
        "id": "9oxhGmprc31p"
      }
    },
    {
      "cell_type": "code",
      "source": [
        "model = Sequential()"
      ],
      "metadata": {
        "id": "L2X7IFJB_SXq"
      },
      "execution_count": 87,
      "outputs": []
    },
    {
      "cell_type": "markdown",
      "source": [
        "###Adding the hiddenlayers with activation function"
      ],
      "metadata": {
        "id": "SFE3rUYmc80l"
      }
    },
    {
      "cell_type": "code",
      "source": [
        "model.add(Dense(512, activation='relu', input_shape=(784,)))\n",
        "model.add(Dense(512, activation='relu'))\n",
        "model.add(Dense(512, activation='relu'))\n"
      ],
      "metadata": {
        "id": "NFFNojWQ_Vf2"
      },
      "execution_count": 88,
      "outputs": []
    },
    {
      "cell_type": "markdown",
      "source": [
        "###Output Layer with 10 Neurons"
      ],
      "metadata": {
        "id": "EQmSmA8VeRIX"
      }
    },
    {
      "cell_type": "code",
      "source": [
        "model.add(Dense(num_classes, activation='softmax'))"
      ],
      "metadata": {
        "id": "n_B6Y_0n_X7g"
      },
      "execution_count": 89,
      "outputs": []
    },
    {
      "cell_type": "markdown",
      "source": [
        "###Compiling the Model"
      ],
      "metadata": {
        "id": "klAtGFPteuy5"
      }
    },
    {
      "cell_type": "code",
      "source": [
        "\n",
        "model.compile(loss='categorical_crossentropy', optimizer=\"Adam\", metrics=['accuracy'])"
      ],
      "metadata": {
        "id": "tuCH2SpPez8a"
      },
      "execution_count": 90,
      "outputs": []
    },
    {
      "cell_type": "markdown",
      "source": [
        "###Model Training"
      ],
      "metadata": {
        "id": "8lJ_7cnXf1l4"
      }
    },
    {
      "cell_type": "code",
      "source": [
        "batch_size = 128\n",
        "epochs = 20\n",
        "history = model.fit(X_train, y_train, batch_size = batch_size, epochs = epochs, verbose = 1, validation_data = (X_test, y_test))\n",
        "\n",
        "\n"
      ],
      "metadata": {
        "colab": {
          "base_uri": "https://localhost:8080/"
        },
        "id": "3ejYucgbf5vC",
        "outputId": "86527fc1-77bb-4c25-8dfb-e616b4755561"
      },
      "execution_count": 91,
      "outputs": [
        {
          "output_type": "stream",
          "name": "stdout",
          "text": [
            "Epoch 1/20\n",
            "469/469 [==============================] - 14s 28ms/step - loss: 0.2128 - accuracy: 0.9368 - val_loss: 0.0976 - val_accuracy: 0.9684\n",
            "Epoch 2/20\n",
            "469/469 [==============================] - 13s 27ms/step - loss: 0.0827 - accuracy: 0.9743 - val_loss: 0.0910 - val_accuracy: 0.9719\n",
            "Epoch 3/20\n",
            "469/469 [==============================] - 12s 27ms/step - loss: 0.0547 - accuracy: 0.9827 - val_loss: 0.0804 - val_accuracy: 0.9760\n",
            "Epoch 4/20\n",
            "469/469 [==============================] - 13s 27ms/step - loss: 0.0404 - accuracy: 0.9868 - val_loss: 0.0722 - val_accuracy: 0.9777\n",
            "Epoch 5/20\n",
            "469/469 [==============================] - 13s 27ms/step - loss: 0.0314 - accuracy: 0.9894 - val_loss: 0.0834 - val_accuracy: 0.9772\n",
            "Epoch 6/20\n",
            "469/469 [==============================] - 13s 28ms/step - loss: 0.0283 - accuracy: 0.9908 - val_loss: 0.0778 - val_accuracy: 0.9785\n",
            "Epoch 7/20\n",
            "469/469 [==============================] - 14s 30ms/step - loss: 0.0222 - accuracy: 0.9929 - val_loss: 0.0748 - val_accuracy: 0.9798\n",
            "Epoch 8/20\n",
            "469/469 [==============================] - 13s 27ms/step - loss: 0.0215 - accuracy: 0.9934 - val_loss: 0.0811 - val_accuracy: 0.9793\n",
            "Epoch 9/20\n",
            "469/469 [==============================] - 12s 27ms/step - loss: 0.0195 - accuracy: 0.9938 - val_loss: 0.0849 - val_accuracy: 0.9776\n",
            "Epoch 10/20\n",
            "469/469 [==============================] - 14s 30ms/step - loss: 0.0149 - accuracy: 0.9951 - val_loss: 0.1016 - val_accuracy: 0.9785\n",
            "Epoch 11/20\n",
            "469/469 [==============================] - 15s 32ms/step - loss: 0.0191 - accuracy: 0.9942 - val_loss: 0.0874 - val_accuracy: 0.9806\n",
            "Epoch 12/20\n",
            "469/469 [==============================] - 16s 34ms/step - loss: 0.0122 - accuracy: 0.9960 - val_loss: 0.0851 - val_accuracy: 0.9811\n",
            "Epoch 13/20\n",
            "469/469 [==============================] - 14s 31ms/step - loss: 0.0147 - accuracy: 0.9954 - val_loss: 0.1065 - val_accuracy: 0.9758\n",
            "Epoch 14/20\n",
            "469/469 [==============================] - 14s 30ms/step - loss: 0.0125 - accuracy: 0.9959 - val_loss: 0.0981 - val_accuracy: 0.9808\n",
            "Epoch 15/20\n",
            "469/469 [==============================] - 14s 29ms/step - loss: 0.0121 - accuracy: 0.9961 - val_loss: 0.0831 - val_accuracy: 0.9840\n",
            "Epoch 16/20\n",
            "469/469 [==============================] - 17s 37ms/step - loss: 0.0115 - accuracy: 0.9965 - val_loss: 0.1112 - val_accuracy: 0.9765\n",
            "Epoch 17/20\n",
            "469/469 [==============================] - 13s 28ms/step - loss: 0.0097 - accuracy: 0.9969 - val_loss: 0.1016 - val_accuracy: 0.9802\n",
            "Epoch 18/20\n",
            "469/469 [==============================] - 13s 27ms/step - loss: 0.0104 - accuracy: 0.9970 - val_loss: 0.0800 - val_accuracy: 0.9845\n",
            "Epoch 19/20\n",
            "469/469 [==============================] - 13s 28ms/step - loss: 0.0095 - accuracy: 0.9972 - val_loss: 0.0959 - val_accuracy: 0.9841\n",
            "Epoch 20/20\n",
            "469/469 [==============================] - 13s 28ms/step - loss: 0.0098 - accuracy: 0.9973 - val_loss: 0.1004 - val_accuracy: 0.9786\n"
          ]
        }
      ]
    },
    {
      "cell_type": "code",
      "source": [
        "predicted = model.predict(X_test)"
      ],
      "metadata": {
        "colab": {
          "base_uri": "https://localhost:8080/"
        },
        "id": "-Xmem_r_nkkx",
        "outputId": "41f47182-6e8a-4965-a13e-e4ac1b280438"
      },
      "execution_count": 95,
      "outputs": [
        {
          "output_type": "stream",
          "name": "stdout",
          "text": [
            "313/313 [==============================] - 1s 4ms/step\n"
          ]
        }
      ]
    },
    {
      "cell_type": "markdown",
      "source": [
        "###Evaluating the model on the test data "
      ],
      "metadata": {
        "id": "ITxwwwkQm95p"
      }
    },
    {
      "cell_type": "code",
      "source": [
        "score = model.evaluate(X_test, y_test, verbose=0)"
      ],
      "metadata": {
        "id": "y6zTVCpnm41m"
      },
      "execution_count": 92,
      "outputs": []
    },
    {
      "cell_type": "markdown",
      "source": [
        "###Printing test Loss and Accuracy "
      ],
      "metadata": {
        "id": "eezxKygbnIJD"
      }
    },
    {
      "cell_type": "code",
      "source": [
        "print('Test Loss:', score[0])\n",
        "print('Test Accuracy:', score[1])"
      ],
      "metadata": {
        "colab": {
          "base_uri": "https://localhost:8080/"
        },
        "id": "2bnAn9_jnSdl",
        "outputId": "63a0d03b-0b99-4485-8c01-fb388057c744"
      },
      "execution_count": 93,
      "outputs": [
        {
          "output_type": "stream",
          "name": "stdout",
          "text": [
            "Test Loss: 0.10038580000400543\n",
            "Test Accuracy: 0.978600025177002\n"
          ]
        }
      ]
    },
    {
      "cell_type": "code",
      "source": [
        "import matplotlib.pyplot as plt\n",
        "\n",
        "ind = 1545\n",
        "sample_image = X_test[ind]\n",
        "\n",
        "pixels = sample_image.reshape((28, 28))\n",
        "plt.imshow(pixels, cmap='gray')\n",
        "plt.show()\n",
        "print(' Real label :',np.argmax(y_test[ind]))\n",
        "print(' Predicted label:',np.argmax(predicted[ind]))"
      ],
      "metadata": {
        "colab": {
          "base_uri": "https://localhost:8080/",
          "height": 300
        },
        "id": "BEm1jIdUnZ-4",
        "outputId": "9682fbef-c04b-450e-84e7-7857fc56d918"
      },
      "execution_count": 94,
      "outputs": [
        {
          "output_type": "display_data",
          "data": {
            "text/plain": [
              "<Figure size 432x288 with 1 Axes>"
            ],
            "image/png": "[encoded data removed]"
          },
          "metadata": {
            "needs_background": "light"
          }
        },
        {
          "output_type": "stream",
          "name": "stdout",
          "text": [
            " Real label : 9\n",
            " Predicted label: 9\n"
          ]
        }
      ]
    }
  ]
}