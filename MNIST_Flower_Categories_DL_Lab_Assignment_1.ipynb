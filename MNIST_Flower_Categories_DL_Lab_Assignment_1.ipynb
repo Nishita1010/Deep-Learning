{
  "nbformat": 4,
  "nbformat_minor": 0,
  "metadata": {
    "colab": {
      "provenance": []
    },
    "kernelspec": {
      "name": "python3",
      "display_name": "Python 3"
    },
    "language_info": {
      "name": "python"
    }
  },
  "cells": [
    {
      "cell_type": "markdown",
      "source": [
        " # Predicting the IRIS flower Categories using MNIST dataset"
      ],
      "metadata": {
        "id": "QxjGX5pv4nMo"
      }
    },
    {
      "cell_type": "markdown",
      "source": [
        "### Import the necessary libraries\n"
      ],
      "metadata": {
        "id": "KhjAAM4S5KRD"
      }
    },
    {
      "cell_type": "code",
      "source": [
        "import numpy as np\n",
        "import pandas as pd\n",
        "from sklearn.neural_network import MLPClassifier\n",
        "from sklearn.model_selection import train_test_split\n",
        "from sklearn.preprocessing import StandardScaler\n",
        "from sklearn.metrics import accuracy_score"
      ],
      "metadata": {
        "id": "H33WD9UK5N09"
      },
      "execution_count": null,
      "outputs": []
    },
    {
      "cell_type": "markdown",
      "source": [
        "### Load the IRIS dataset and store it in a pandas dataframe\n"
      ],
      "metadata": {
        "id": "_J6ZjNRW5VRd"
      }
    },
    {
      "cell_type": "code",
      "source": [
        "url = \"https://archive.ics.uci.edu/ml/machine-learning-databases/iris/iris.data\"\n",
        "column_names = ['sepal-length', 'sepal-width', 'petal-length', 'petal-width', 'class']\n",
        "dataset = pd.read_csv(url, names=column_names)"
      ],
      "metadata": {
        "id": "0S_0PsGG5Xww"
      },
      "execution_count": null,
      "outputs": []
    },
    {
      "cell_type": "markdown",
      "source": [
        "\n",
        "### Get the feature values (X) and target values (y)"
      ],
      "metadata": {
        "id": "vNnGDEN15axD"
      }
    },
    {
      "cell_type": "code",
      "source": [
        "features = dataset.iloc[:, :-1].values\n",
        "target = dataset.iloc[:, -1].values"
      ],
      "metadata": {
        "id": "qWb4z16k5ePI"
      },
      "execution_count": null,
      "outputs": []
    },
    {
      "cell_type": "markdown",
      "source": [
        "### Split the data into training and testing sets\n"
      ],
      "metadata": {
        "id": "-3Xe-ZVW5h9M"
      }
    },
    {
      "cell_type": "code",
      "source": [
        "train_features, test_features, train_target, test_target = train_test_split(features, target, test_size=0.2)\n"
      ],
      "metadata": {
        "id": "UMQ9Q2U65jyi"
      },
      "execution_count": null,
      "outputs": []
    },
    {
      "cell_type": "markdown",
      "source": [
        "### Scale the features so that they have a mean of 0 and a standard deviation of 1\n"
      ],
      "metadata": {
        "id": "vrvR-u-b5oiF"
      }
    },
    {
      "cell_type": "code",
      "source": [
        "scaler = StandardScaler()\n",
        "train_features = scaler.fit_transform(train_features)\n",
        "test_features = scaler.transform(test_features)"
      ],
      "metadata": {
        "id": "KV-EoIOq5pLZ"
      },
      "execution_count": null,
      "outputs": []
    },
    {
      "cell_type": "markdown",
      "source": [
        "### Define the architecture of the MLP model\n"
      ],
      "metadata": {
        "id": "n0HlK6jz5sGx"
      }
    },
    {
      "cell_type": "code",
      "source": [
        "model = MLPClassifier(hidden_layer_sizes=(10, 10, 10), max_iter=1000, activation='relu', solver='adam')\n"
      ],
      "metadata": {
        "id": "9-AV6T7q5tZO"
      },
      "execution_count": null,
      "outputs": []
    },
    {
      "cell_type": "markdown",
      "source": [],
      "metadata": {
        "id": "WurVSofB6omy"
      }
    },
    {
      "cell_type": "markdown",
      "source": [
        "### Train the model using the training data\n"
      ],
      "metadata": {
        "id": "hQtlOL1D5w4h"
      }
    },
    {
      "cell_type": "code",
      "source": [
        "model.fit(train_features, train_target)\n"
      ],
      "metadata": {
        "colab": {
          "base_uri": "https://localhost:8080/"
        },
        "id": "yvaKyLG55y5C",
        "outputId": "883a2d19-2212-4ab9-9177-32e1577de404"
      },
      "execution_count": null,
      "outputs": [
        {
          "output_type": "execute_result",
          "data": {
            "text/plain": [
              "MLPClassifier(hidden_layer_sizes=(10, 10, 10), max_iter=1000)"
            ]
          },
          "metadata": {},
          "execution_count": 7
        }
      ]
    },
    {
      "cell_type": "markdown",
      "source": [
        "### Evaluate the model using the testing data\n"
      ],
      "metadata": {
        "id": "EgaZtc1r51BF"
      }
    },
    {
      "cell_type": "code",
      "source": [
        "predicted_target = model.predict(test_features)\n",
        "accuracy = accuracy_score(test_target, predicted_target)\n",
        "print(\"Accuracy of the model:\", accuracy)"
      ],
      "metadata": {
        "colab": {
          "base_uri": "https://localhost:8080/"
        },
        "id": "6-_GWeu3526c",
        "outputId": "0273699a-a05f-4a58-f618-4b41b5046f94"
      },
      "execution_count": null,
      "outputs": [
        {
          "output_type": "stream",
          "name": "stdout",
          "text": [
            "Accuracy of the model: 0.9666666666666667\n"
          ]
        }
      ]
    },
    {
      "cell_type": "markdown",
      "source": [
        "### Use the trained model to make predictions on new data\n"
      ],
      "metadata": {
        "id": "aGfV-nbv56WX"
      }
    },
    {
      "cell_type": "code",
      "source": [
        "new_data = np.array([[5.1, 3.5, 1.4, 0.2]])\n",
        "new_data = scaler.transform(new_data)\n",
        "prediction = model.predict(new_data)\n",
        "print(\"Predicted class:\", prediction)"
      ],
      "metadata": {
        "colab": {
          "base_uri": "https://localhost:8080/"
        },
        "id": "jshtLd5z58RX",
        "outputId": "f3c50756-558a-425c-e622-4c2640ab1b33"
      },
      "execution_count": null,
      "outputs": [
        {
          "output_type": "stream",
          "name": "stdout",
          "text": [
            "Predicted class: ['Iris-setosa']\n"
          ]
        }
      ]
    }
  ]
}