{
  "nbformat": 4,
  "nbformat_minor": 0,
  "metadata": {
    "colab": {
      "provenance": []
    },
    "kernelspec": {
      "name": "python3",
      "display_name": "Python 3"
    },
    "language_info": {
      "name": "python"
    }
  },
  "cells": [
    {
      "cell_type": "markdown",
      "source": [
        "#Practice Programming Assignment : 3\n",
        "\n",
        "###Nishita Namdeo\n",
        "###200416\n",
        "------------------------------------"
      ],
      "metadata": {
        "id": "fWLlkWUWDPsv"
      }
    },
    {
      "cell_type": "markdown",
      "source": [
        "###**Problem Statement :**\n",
        "Solve the multiclass image classification problem using the CIFAR-10 dataset. \n",
        "Perform the following analysis:\n",
        "\n",
        "1. Build a CNN to solve the problem (typical Deep Learning approach that uses a feed-forward MLP at the end of the CNN layers to classify the images).\n",
        "\n",
        "2. Extract convolutional features and train a conventional machine learning classifier (e.g. SVM or Logistic Regression).\n",
        "You need to first get the training and test data ready for this experiment. \n",
        "\n",
        "3. Compare the performances of the models built in step 1 and 2.\n"
      ],
      "metadata": {
        "id": "qWH94xIkDutE"
      }
    },
    {
      "cell_type": "markdown",
      "source": [
        "####Import Necessary Libraries"
      ],
      "metadata": {
        "id": "EN6PtTvBBt_H"
      }
    },
    {
      "cell_type": "code",
      "execution_count": 15,
      "metadata": {
        "id": "gzALQi8K0N2v"
      },
      "outputs": [],
      "source": [
        "import tensorflow as tf\n",
        "from tensorflow import keras\n",
        "from sklearn.svm import SVC\n",
        "from sklearn.linear_model import LogisticRegression\n",
        "from sklearn.metrics import accuracy_score\n",
        "from tensorflow.keras.datasets import cifar10\n",
        "import seaborn as sns\n",
        "import matplotlib.pyplot as plt"
      ]
    },
    {
      "cell_type": "markdown",
      "source": [
        "####Load CIFAR-10 dataset"
      ],
      "metadata": {
        "id": "breXuBB0By_G"
      }
    },
    {
      "cell_type": "code",
      "source": [
        "(x_train, y_train), (x_test, y_test) = cifar10.load_data()"
      ],
      "metadata": {
        "colab": {
          "base_uri": "https://localhost:8080/"
        },
        "id": "tdkayuDf4YgV",
        "outputId": "6ad9b121-0a3d-46eb-db50-961ed033d3e1"
      },
      "execution_count": 2,
      "outputs": [
        {
          "output_type": "stream",
          "name": "stdout",
          "text": [
            "Downloading data from https://www.cs.toronto.edu/~kriz/cifar-10-python.tar.gz\n",
            "170498071/170498071 [==============================] - 2s 0us/step\n"
          ]
        }
      ]
    },
    {
      "cell_type": "markdown",
      "source": [
        "####Normalize the Data"
      ],
      "metadata": {
        "id": "bfWGhlJlB3pl"
      }
    },
    {
      "cell_type": "code",
      "source": [
        "x_train = x_train / 255.0\n",
        "x_test = x_test / 255.0"
      ],
      "metadata": {
        "id": "cf_r0bVl8DMh"
      },
      "execution_count": 3,
      "outputs": []
    },
    {
      "cell_type": "markdown",
      "source": [
        "####Define CNN Model"
      ],
      "metadata": {
        "id": "Iu0nZ3M0CDEF"
      }
    },
    {
      "cell_type": "code",
      "source": [
        "model = keras.Sequential([\n",
        "    \n",
        "keras.layers.Conv2D(32,(3,3), activation = \"relu\", input_shape = (32,32,3)),\n",
        "keras.layers.MaxPooling2D((2,2)),\n",
        "keras.layers.Flatten(),\n",
        "keras.layers.Dense(128, activation='relu'),\n",
        "keras.layers.Dense(64, activation='relu'),\n",
        "keras.layers.Dense(10, activation = 'softmax')\n",
        "])"
      ],
      "metadata": {
        "id": "d_ka7GIa8k78"
      },
      "execution_count": 4,
      "outputs": []
    },
    {
      "cell_type": "markdown",
      "source": [
        "####Compiling the Model"
      ],
      "metadata": {
        "id": "aodResCdCHJc"
      }
    },
    {
      "cell_type": "code",
      "source": [
        "model.compile(optimizer='adam', loss='sparse_categorical_crossentropy', metrics=['accuracy'])"
      ],
      "metadata": {
        "id": "chSOLiamfc0s"
      },
      "execution_count": 5,
      "outputs": []
    },
    {
      "cell_type": "markdown",
      "source": [
        "####Train the CNN model"
      ],
      "metadata": {
        "id": "eGHFmNCVCKxE"
      }
    },
    {
      "cell_type": "code",
      "source": [
        "model.fit(x_train, y_train, epochs=13, validation_data = (x_test, y_test))"
      ],
      "metadata": {
        "colab": {
          "base_uri": "https://localhost:8080/"
        },
        "id": "CyGdpOUxdn7W",
        "outputId": "9705b792-f468-41fe-8132-5b78b712978b"
      },
      "execution_count": 6,
      "outputs": [
        {
          "output_type": "stream",
          "name": "stdout",
          "text": [
            "Epoch 1/13\n",
            "1563/1563 [==============================] - 34s 21ms/step - loss: 1.4360 - accuracy: 0.4838 - val_loss: 1.2161 - val_accuracy: 0.5644\n",
            "Epoch 2/13\n",
            "1563/1563 [==============================] - 32s 21ms/step - loss: 1.1250 - accuracy: 0.6061 - val_loss: 1.1006 - val_accuracy: 0.6110\n",
            "Epoch 3/13\n",
            "1563/1563 [==============================] - 33s 21ms/step - loss: 0.9777 - accuracy: 0.6551 - val_loss: 1.0809 - val_accuracy: 0.6203\n",
            "Epoch 4/13\n",
            "1563/1563 [==============================] - 33s 21ms/step - loss: 0.8709 - accuracy: 0.6943 - val_loss: 1.0295 - val_accuracy: 0.6419\n",
            "Epoch 5/13\n",
            "1563/1563 [==============================] - 34s 21ms/step - loss: 0.7747 - accuracy: 0.7302 - val_loss: 1.0510 - val_accuracy: 0.6459\n",
            "Epoch 6/13\n",
            "1563/1563 [==============================] - 32s 20ms/step - loss: 0.6991 - accuracy: 0.7537 - val_loss: 1.0401 - val_accuracy: 0.6545\n",
            "Epoch 7/13\n",
            "1563/1563 [==============================] - 33s 21ms/step - loss: 0.6194 - accuracy: 0.7804 - val_loss: 1.0972 - val_accuracy: 0.6534\n",
            "Epoch 8/13\n",
            "1563/1563 [==============================] - 33s 21ms/step - loss: 0.5527 - accuracy: 0.8055 - val_loss: 1.1722 - val_accuracy: 0.6423\n",
            "Epoch 9/13\n",
            "1563/1563 [==============================] - 33s 21ms/step - loss: 0.4809 - accuracy: 0.8277 - val_loss: 1.2319 - val_accuracy: 0.6512\n",
            "Epoch 10/13\n",
            "1563/1563 [==============================] - 32s 20ms/step - loss: 0.4201 - accuracy: 0.8508 - val_loss: 1.3294 - val_accuracy: 0.6451\n",
            "Epoch 11/13\n",
            "1563/1563 [==============================] - 33s 21ms/step - loss: 0.3609 - accuracy: 0.8725 - val_loss: 1.4379 - val_accuracy: 0.6336\n",
            "Epoch 12/13\n",
            "1563/1563 [==============================] - 40s 26ms/step - loss: 0.3161 - accuracy: 0.8872 - val_loss: 1.5267 - val_accuracy: 0.6326\n",
            "Epoch 13/13\n",
            "1563/1563 [==============================] - 33s 21ms/step - loss: 0.2734 - accuracy: 0.9034 - val_loss: 1.5923 - val_accuracy: 0.6380\n"
          ]
        },
        {
          "output_type": "execute_result",
          "data": {
            "text/plain": [
              "<keras.callbacks.History at 0x7fa0211a2f40>"
            ]
          },
          "metadata": {},
          "execution_count": 6
        }
      ]
    },
    {
      "cell_type": "markdown",
      "source": [
        "####Evaluate the CNN model on test data"
      ],
      "metadata": {
        "id": "FYvhVFbjCP29"
      }
    },
    {
      "cell_type": "code",
      "source": [
        "test_loss , test_accuracy = model.evaluate(x_test,y_test)"
      ],
      "metadata": {
        "colab": {
          "base_uri": "https://localhost:8080/"
        },
        "id": "qiLM1rOxf1Cv",
        "outputId": "ab747363-1add-4d08-c5be-1bedc173e119"
      },
      "execution_count": 7,
      "outputs": [
        {
          "output_type": "stream",
          "name": "stdout",
          "text": [
            "313/313 [==============================] - 3s 8ms/step - loss: 1.5923 - accuracy: 0.6380\n"
          ]
        }
      ]
    },
    {
      "cell_type": "markdown",
      "source": [
        "####Extract features from the last convolutional layer of the CNN model"
      ],
      "metadata": {
        "id": "cAiSYv-fCViV"
      }
    },
    {
      "cell_type": "code",
      "source": [
        "model_features = keras.Model(inputs=model.inputs, outputs=model.layers[-2].output)\n",
        "train_features = model_features.predict(x_train)\n",
        "test_features = model_features.predict(x_test)"
      ],
      "metadata": {
        "colab": {
          "base_uri": "https://localhost:8080/"
        },
        "id": "o9ekDvL9gQjo",
        "outputId": "4581a63a-7140-4759-ce11-e809a12008f1"
      },
      "execution_count": 8,
      "outputs": [
        {
          "output_type": "stream",
          "name": "stdout",
          "text": [
            "1563/1563 [==============================] - 10s 6ms/step\n",
            "313/313 [==============================] - 2s 6ms/step\n"
          ]
        }
      ]
    },
    {
      "cell_type": "markdown",
      "source": [
        "####Train and Evaluate SVM classifier on extracted features"
      ],
      "metadata": {
        "id": "NhwvYMGpCf9l"
      }
    },
    {
      "cell_type": "code",
      "source": [
        "svm = SVC(kernel='linear')\n",
        "svm.fit(train_features, y_train)\n",
        "y_pred_svm = svm.predict(test_features)\n",
        "test_accuracy_svm = accuracy_score(y_test, y_pred_svm)"
      ],
      "metadata": {
        "colab": {
          "base_uri": "https://localhost:8080/"
        },
        "id": "RZyuraj0g7tn",
        "outputId": "82a64955-353a-48a0-e8b5-e6e677932257"
      },
      "execution_count": 9,
      "outputs": [
        {
          "output_type": "stream",
          "name": "stderr",
          "text": [
            "/usr/local/lib/python3.9/dist-packages/sklearn/utils/validation.py:1143: DataConversionWarning: A column-vector y was passed when a 1d array was expected. Please change the shape of y to (n_samples, ), for example using ravel().\n",
            "  y = column_or_1d(y, warn=True)\n"
          ]
        }
      ]
    },
    {
      "cell_type": "markdown",
      "source": [
        "####Train and Evaluate Logistic Regression classifier on extracted features"
      ],
      "metadata": {
        "id": "UH6Yq4qsCpNU"
      }
    },
    {
      "cell_type": "code",
      "source": [
        "lr = LogisticRegression()\n",
        "lr.fit(train_features, y_train)\n",
        "y_pred_lr = lr.predict(test_features)\n",
        "test_accuracy_lr = accuracy_score(y_test, y_pred_lr)"
      ],
      "metadata": {
        "colab": {
          "base_uri": "https://localhost:8080/"
        },
        "id": "2t2NMPpnhcX4",
        "outputId": "eba97f83-0972-4ae6-850d-27e978143773"
      },
      "execution_count": 10,
      "outputs": [
        {
          "output_type": "stream",
          "name": "stderr",
          "text": [
            "/usr/local/lib/python3.9/dist-packages/sklearn/utils/validation.py:1143: DataConversionWarning: A column-vector y was passed when a 1d array was expected. Please change the shape of y to (n_samples, ), for example using ravel().\n",
            "  y = column_or_1d(y, warn=True)\n",
            "/usr/local/lib/python3.9/dist-packages/sklearn/linear_model/_logistic.py:458: ConvergenceWarning: lbfgs failed to converge (status=1):\n",
            "STOP: TOTAL NO. of ITERATIONS REACHED LIMIT.\n",
            "\n",
            "Increase the number of iterations (max_iter) or scale the data as shown in:\n",
            "    https://scikit-learn.org/stable/modules/preprocessing.html\n",
            "Please also refer to the documentation for alternative solver options:\n",
            "    https://scikit-learn.org/stable/modules/linear_model.html#logistic-regression\n",
            "  n_iter_i = _check_optimize_result(\n"
          ]
        }
      ]
    },
    {
      "cell_type": "markdown",
      "source": [
        "####The Results"
      ],
      "metadata": {
        "id": "fmT2XTdRCzt1"
      }
    },
    {
      "cell_type": "code",
      "source": [
        "print('CNN Model Test Accuracy:', test_accuracy)\n",
        "print('SVM Classifier Test Accuracy:', test_accuracy_svm)\n",
        "print('Logistic Regression ClassifiervTest Accuracy:', test_accuracy_lr)"
      ],
      "metadata": {
        "colab": {
          "base_uri": "https://localhost:8080/"
        },
        "id": "oeIVGDztiKdZ",
        "outputId": "b4c4e5f6-e193-4430-f8c4-e27e1312d815"
      },
      "execution_count": 11,
      "outputs": [
        {
          "output_type": "stream",
          "name": "stdout",
          "text": [
            "CNN Model Test Accuracy: 0.6380000114440918\n",
            "SVM Classifier Test Accuracy: 0.6404\n",
            "Logistic Regression ClassifiervTest Accuracy: 0.6432\n"
          ]
        }
      ]
    },
    {
      "cell_type": "markdown",
      "source": [
        "#### - The CNN model was trained for 13 epochs, and the test accuracy was about 64%.\n",
        "\n",
        "####- Finally, we took the features from the final convolutional layer of the CNN    model and used them to train SVM and Logistic Regression classifiers. \n",
        "\n",
        "####- The test accuracy for the SVM classifier was about 64%, whereas the test accuracy for the Logistic Regression classifier was around 64.3%.\n",
        "\n",
        "####- These findings lead us to the conclusion that the Logistic Regression Model outperformed CNN and SVM models trained on the identical data."
      ],
      "metadata": {
        "id": "SgOZoha8PRJX"
      }
    }
  ]
}